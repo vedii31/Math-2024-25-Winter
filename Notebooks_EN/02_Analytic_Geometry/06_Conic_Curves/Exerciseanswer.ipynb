1. Find the equation of a circle with center at point 
𝐴
(
1
,
2
)
A(1,2) and radius 
𝑟
=
3
r=3:
The general equation of a circle is:

(
𝑥
−
ℎ
)
2
+
(
𝑦
−
𝑘
)
2
=
𝑟
2
(x−h) 
2
 +(y−k) 
2
 =r 
2
 
Here, 
ℎ
=
1
h=1, 
𝑘
=
2
k=2, and 
𝑟
=
3
r=3. Substituting these values:

(
𝑥
−
1
)
2
+
(
𝑦
−
2
)
2
=
9
(x−1) 
2
 +(y−2) 
2
 =9

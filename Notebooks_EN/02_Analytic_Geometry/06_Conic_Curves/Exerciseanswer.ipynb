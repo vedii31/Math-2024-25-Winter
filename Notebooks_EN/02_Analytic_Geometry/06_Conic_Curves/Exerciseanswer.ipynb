# 1. Circle with center (1, 2) and radius 3
def plot_circle():
    h, k, r = 1, 2, 3
    theta = np.linspace(0, 2 * np.pi, 500)
    x = h + r * np.cos(theta)
    y = k + r * np.sin(theta)

    plt.figure()
    plt.plot(x, y, label='Circle: (x-1)^2 + (y-2)^2 = 9')
    plt.scatter([h], [k], color="red", label="Center (1, 2)")
    plt.gca().set_aspect('equal', adjustable='box')
    plt.grid()
    plt.legend()
    plt.title("Circle")
    plt.show()


# 2. Parabola intersecting x-axis at x = 2, x = 4 and passing through (3, 1)
def plot_parabola():
    x = sp.symbols('x')
    a = -1  # Solved in part 2
    y_parabola = a * (x - 2) * (x - 4)

    x_vals = np.linspace(1, 5, 500)
    y_vals = [y_parabola.evalf(subs={x: val}) for val in x_vals]

    plt.figure()
    plt.plot(x_vals, y_vals, label='Parabola: y = -x^2 + 6x - 8')
    plt.scatter([2, 4], [0, 0], color="red", label="Roots (2, 0) and (4, 0)")
    plt.scatter([3], [1], color="green", label="Point (3, 1)")
    plt.axhline(0, color='black', linewidth=0.5)
    plt.axvline(0, color='black', linewidth=0.5)
    plt.grid()
    plt.legend()
    plt.title("Parabola")
    plt.show()


# 3. Center of ellipse x^2 + 4y^2 - 4x - 16y + 16 = 0
def find_ellipse_center():
    x, y = sp.symbols('x y')
    ellipse_eq = x**2 + 4*y**2 - 4*x - 16*y + 16
    center_x, center_y = sp.symbols('center_x center_y')

    # Completing the square
    ellipse_eq = sp.expand((x - 2)**2 + 4*(y - 2)**2 - 4)
    center = (2, 2)

    print(f"Ellipse Center: {center}")


# 4. Slope of line tangent to circle x^2 + y^2 = 1
def find_tangent_slope():
    m = sp.symbols('m', positive=True)
    eq = sp.Eq(5 / sp.sqrt(m**2 + 1), 1)  # Tangent condition
    slope = sp.solve(eq, m)
    print(f"Tangent Slope: {slope}")


# 5. Intersection points of hyperbola and ellipse
def find_intersection_points():
    x, y = sp.symbols('x y')
    hyperbola_eq = sp.Eq(x**2 - y**2, 1)
    ellipse_eq = sp.Eq(x**2 + 4*y**2, 6)
    intersection_points = sp.solve([hyperbola_eq, ellipse_eq], (x, y))
    print(f"Intersection Points: {intersection_points}")


# 6. Distance between branches of hyperbola x^2 - y^2 = 1
def find_hyperbola_branch_distance():
    c = 1  # Distance at x = c
    distance = 2 * abs(c)
    print(f"Distance Between Branches (at x = {c}): {distance}")

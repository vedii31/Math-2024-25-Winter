{

"cells": [

  {

   "metadata": {

    "ExecuteTime": {

     "end_time": "2024-11-18T15:29:17.173346Z",

     "start_time": "2024-11-18T15:29:17.136951Z"

    }

   },

   "cell_type": "code",

   "source": [

    "#Exercise 1\n",

    "import sympy as sp\n",

    "\n",

    "# Points A and B\n",

    "A = (1, 2)\n",

    "B = (3, 4)\n",

    "\n",

    "# Calculate the slope (m)\n",

    "m = (B[1] - A[1]) / (B[0] - A[0])\n",

    "\n",

    "# Equation of the line y = mx + c\n",

    "c = A[1] - m * A[0]\n",

    "\n",

    "#Line equation\n",

    "line_eq = sp.Eq(sp.Symbol('y'), m * sp.Symbol('x') + c)\n",

    "\n",

    "print(line_eq)"

   ],

   "id": "2285f7da4e36ff81",

   "outputs": [

    {

     "name": "stdout",

     "output_type": "stream",

     "text": [

      "Eq(y, 1.0*x + 1.0)\n"

     ]

    }

   ],

   "execution_count": 9

  },

  {

   "metadata": {

    "ExecuteTime": {

     "end_time": "2024-11-18T15:29:20.511469Z",

     "start_time": "2024-11-18T15:29:20.490383Z"

    }

   },

   "cell_type": "code",

   "source": [

    "#Exercise 2\n",

    "\n",

    "# Point A\n",

    "A = (1, 2)\n",

    "\n",

    "# Slope of the given line y = 2x + 3\n",

    "m = 2\n",

    "\n",

    "# Equation of the line parallel to y = 2x + 3 and passing through A\n",

    "c = A[1] - m * A[0]\n",

    "\n",

    "#Line equation\n",

    "line_eq = sp.Eq(sp.Symbol('y'), m * sp.Symbol('x') + c)\n",

    "\n",

    "print(line_eq)"

   ],

   "id": "2a68045616252eba",

   "outputs": [

    {

     "name": "stdout",

     "output_type": "stream",

     "text": [

      "Eq(y, 2*x)\n"

     ]

    }

   ],

   "execution_count": 10

  },

  {

   "metadata": {

    "ExecuteTime": {

     "end_time": "2024-11-18T15:29:25.837171Z",

     "start_time": "2024-11-18T15:29:25.817994Z"

    }

   },

   "cell_type": "code",

   "source": [

    "#Exercise 3\n",

    "\n",

    "# Point A\n",

    "A = (1, 2)\n",

    "\n",

    "# Slope of the given line y = 2x + 3\n",

    "m_perpendicular = -1 / 2\n",

    "\n",

    "# Equation of the line perpendicular to y = 2x + 3 and passing through A\n",

    "c = A[1] - m_perpendicular * A[0]\n",

    "\n",

    "#Line equation\n",

    "line_eq = sp.Eq(sp.Symbol('y'), m_perpendicular * sp.Symbol('x') + c)\n",

    "\n",

    "print(line_eq)"

   ],

   "id": "4fa484bd6322965b",

   "outputs": [

    {

     "name": "stdout",

     "output_type": "stream",

     "text": [

      "Eq(y, 2.5 - 0.5*x)\n"

     ]

    }

   ],

   "execution_count": 11

  },

  {

   "metadata": {

    "ExecuteTime": {

     "end_time": "2024-11-18T15:07:59.598900Z",

     "start_time": "2024-11-18T15:07:59.542686Z"

    }

   },

   "cell_type": "code",

   "source": [

    "#Exercise 4\n",

    "\n",

    "# Define the equation of the line\n",

    "x, y = sp.symbols('x y')\n",

    "line1 = sp.Eq(y, 2 * x + 3)\n",

    "line2 = sp.Eq(y, -3 * x + 2)\n",

    "\n",

    "# Find the intersection point\n",

    "intersection = sp.solve((line1, line2), (x, y))\n",

    "\n",

    "print(intersection)\n",

    "\n",

    "# Calculate the angle between the two lines\n",

    "m1 = 2\n",

    "m2 = 3\n",

    "angle = sp.atan((m2 - m1) / (1 + m1 * m2))\n",

    "angle_deg = sp.deg(angle)\n",

    "\n",

    "print(angle_deg)"

   ],

   "id": "b1892d7c0b6a3b6a",

   "outputs": [

    {

     "name": "stdout",

     "output_type": "stream",

     "text": [

      "{x: -1/5, y: 13/5}\n",

      "25.5414698287495/pi\n"

     ]

    }

   ],

   "execution_count": 5

  },

  {

   "metadata": {

    "ExecuteTime": {

     "end_time": "2024-11-18T15:21:27.679859Z",

     "start_time": "2024-11-18T15:21:27.623804Z"

    }

   },

   "cell_type": "code",

   "source": [

    "#Exercise 5\n",

    "\n",

    "# Point A\n",

    "A = (1, 2)\n",

    "# Vector v\n",

    "v = (2, 3)\n",

    "\n",

    "# Slope of the vector v\n",

    "m = v[1] / v[0]\n",

    "\n",

    "# Equation of the line\n",

    "c = A[1] - m * A[0]\n",

    "\n",

    "line_eq = sp.Eq(sp.Symbol('y'), m * sp.Symbol('x') + c)\n",

    "\n",

    "print(line_eq)"

   ],

   "id": "3e8166d5285e4beb",

   "outputs": [

    {

     "name": "stdout",

     "output_type": "stream",

     "text": [

      "Eq(y, 1.5*x + 0.5)\n"

     ]

    }

   ],

   "execution_count": 3

  },

  {

   "metadata": {

    "ExecuteTime": {

     "end_time": "2024-11-18T15:21:17.953777Z",

     "start_time": "2024-11-18T15:21:15.908998Z"

    }

   },

   "cell_type": "code",

   "source": [

    "#Exercise 6\n",

    "import sympy as sp\n",

    "\n",

    "# Parallel line\n",

    "m_parallel = 2\n",

    "c_parallel = 1\n",

    "line_parallel = sp.Eq(sp.Symbol('y'), m_parallel * sp.Symbol('x') + c_parallel)\n",

    "\n",

    "print(line_parallel)\n",

    "\n",

    "# Perpendicular line\n",

    "m_perpendicular = -1 / m_parallel\n",

    "c_perpendicular = 1\n",

    "line_perpendicular = sp.Eq(sp.Symbol('y'), m_perpendicular * sp.Symbol('x') + c_perpendicular)\n",

    "\n",

    "print(line_perpendicular)"

   ],

   "id": "f642b61aebfab4e9",

   "outputs": [

    {

     "name": "stdout",

     "output_type": "stream",

     "text": [

      "Eq(y, 2*x + 1)\n",

      "Eq(y, 1 - 0.5*x)\n"

     ]

    }

   ],

   "execution_count": 2

  },

  {

   "metadata": {

    "ExecuteTime": {

     "end_time": "2024-11-18T15:24:08.834226Z",

     "start_time": "2024-11-18T15:24:08.811981Z"

    }

   },

   "cell_type": "code",

   "source": [

    "#Exercise 7\n",

    "\n",

    "# Line equation\n",

    "line = sp.Eq(sp.Symbol('y'), 2 * sp.Symbol('x') + 3)\n",

    "\n",

    "# Point A\n",

    "A = (1, 2)\n",

    "\n",

    "# Distance formula\n",

    "distance = sp.Abs(2*A[0] - A[1] + 3) / sp.sqrt(1 + 2**2)\n",

    "\n",

    "print(distance)"

   ],

   "id": "89d47b1d40a9d7fe",

   "outputs": [

    {

     "name": "stdout",

     "output_type": "stream",

     "text": [

      "3*sqrt(5)/5\n"

     ]

    }

   ],

   "execution_count": 5

  },

  {

   "metadata": {

    "ExecuteTime": {

     "end_time": "2024-11-18T15:26:03.956231Z",

     "start_time": "2024-11-18T15:26:03.916670Z"

    }

   },

   "cell_type": "code",

   "source": [

    "#Exercise 8\n",

    "\n",

    "# Points A and B\n",

    "A = (2, 0)\n",

    "B = (0, 3)\n",

    "\n",

    "# Calculating the slope (m)\n",

    "m = (B[1] - A[1]) / (B[0] - A[0])\n",

    "\n",

    "# Equation of the line y = mx + c\n",

    "c = A[1] - m * A[0]\n",

    "\n",

    "# Line equation\n",

    "line_eq = sp.Eq(sp.Symbol('y'), m * sp.Symbol('x') + c)\n",

    "\n",

    "print(line_eq)"

   ],

   "id": "ebe6cd01a1be581c",

   "outputs": [

    {

     "name": "stdout",

     "output_type": "stream",

     "text": [

      "Eq(y, 3.0 - 1.5*x)\n"

     ]

    }

   ],

   "execution_count": 6

  },

  {

   "metadata": {

    "ExecuteTime": {

     "end_time": "2024-11-18T15:27:30.107194Z",

     "start_time": "2024-11-18T15:27:30.089308Z"

    }

   },

   "cell_type": "code",

   "source": [

    "#Exercise 9\n",

    "\n",

    "# Slope of the line y = x + 3\n",

    "m = 1\n",

    "\n",

    "# Angle with Ox-axis\n",

    "angle = sp.atan(m)\n",

    "angle_deg = sp.deg(angle)\n",

    "\n",

    "print(angle_deg)"

   ],

   "id": "66ee5f097228af25",

   "outputs": [

    {

     "name": "stdout",

     "output_type": "stream",

     "text": [

      "45\n"

     ]

    }

   ],

   "execution_count": 7

  },

  {

   "metadata": {

    "ExecuteTime": {

     "end_time": "2024-11-18T15:28:53.393924Z",

     "start_time": "2024-11-18T15:28:53.384513Z"

    }

   },

   "cell_type": "code",

   "source": [

    "#Exercise 10\n",

    "\n",

    "# Line equation x + y + 1 = 0\n",

    "#Normal vector to the line is (1, 1)\n",

    "perpendicular_vector = (1, 1)\n",

    "\n",

    "print(perpendicular_vector)"

   ],

   "id": "ce4120c3ecacd16e",

   "outputs": [

    {

     "name": "stdout",

     "output_type": "stream",

     "text": [

      "(1, 1)\n"

     ]

    }

   ],

   "execution_count": 8

  }

],

"metadata": {

  "kernelspec": {

   "display_name": "Python 3",

   "language": "python",

   "name": "python3"

  },

  "language_info": {

   "codemirror_mode": {

    "name": "ipython",

    "version": 2

   },

   "file_extension": ".py",

   "mimetype": "text/x-python",

   "name": "python",

   "nbconvert_exporter": "python",

   "pygments_lexer": "ipython2",

   "version": "2.7.6"

  }

},

"nbformat": 4,

"nbformat_minor": 5

}
 

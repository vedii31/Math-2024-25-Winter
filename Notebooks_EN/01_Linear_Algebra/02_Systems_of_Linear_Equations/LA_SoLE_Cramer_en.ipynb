{
  "cells": [
    {
      "cell_type": "markdown",
      "metadata": {
        "id": "L4kNsmHiRIrg"
      },
      "source": [
        "# Cramer's Rule - Examples for 2x2, 3x3, and 4x4 Systems\n",
        "\n",
        "Cramer's rule is used only when the number of equations is equal to the number of unknowns. In other words, the coefficient matrix must be a square matrix.\n",
        "\n",
        "**These formulas are used only** when the **determinant** of the coefficient matrix is **non-zero**. Otherwise, the system of equations is either inconsistent or indeterminate.\n",
        "\n",
        "## 2x2 System of Equations\n",
        "\n",
        "Consider a system of two equations with two unknowns:\n",
        "\n",
        "$$\n",
        "\\begin{cases}\n",
        "a_{11}x_1 + a_{12}x_2 = b_1 \\\\\n",
        "a_{21}x_1 + a_{22}x_2 = b_2\n",
        "\\end{cases}\n",
        "$$\n",
        "\n",
        "Cramer's rule for the unknowns $ x_1 $ and $ x_2 $ is as follows:\n",
        "\n",
        "$$\n",
        "x_1 = \\frac{\\det(A_1)}{\\det(A)} \\quad \\text{and} \\quad x_2 = \\frac{\\det(A_2)}{\\det(A)}\n",
        "$$\n",
        "\n",
        "Where:\n",
        "\n",
        "$$\n",
        "\\det(A) =\n",
        "\\begin{vmatrix}\n",
        "a_{11} & a_{12} \\\\\n",
        "a_{21} & a_{22}\n",
        "\\end{vmatrix}\n",
        "= a_{11}a_{22} - a_{12}a_{21}\n",
        "$$\n",
        "\n",
        "$$\n",
        "\\det(A_1) =\n",
        "\\begin{vmatrix}\n",
        "b_1 & a_{12} \\\\\n",
        "b_2 & a_{22}\n",
        "\\end{vmatrix}\n",
        "= b_1a_{22} - a_{12}b_2\n",
        "$$\n",
        "\n",
        "$$\n",
        "\\det(A_2) =\n",
        "\\begin{vmatrix}\n",
        "a_{11} & b_1 \\\\\n",
        "a_{21} & b_2\n",
        "\\end{vmatrix}\n",
        "= a_{11}b_2 - b_1a_{21}\n",
        "$$\n",
        "\n",
        "## 3x3 System of Equations\n",
        "\n",
        "Consider a system of three equations with three unknowns:\n",
        "\n",
        "$$\n",
        "\\begin{cases}\n",
        "a_{11}x_1 + a_{12}x_2 + a_{13}x_3 = b_1 \\\\\n",
        "a_{21}x_1 + a_{22}x_2 + a_{23}x_3 = b_2 \\\\\n",
        "a_{31}x_1 + a_{32}x_2 + a_{33}x_3 = b_3\n",
        "\\end{cases}\n",
        "$$\n",
        "\n",
        "Cramer's rule for $ x_1 $, $ x_2 $, and $ x_3 $:\n",
        "\n",
        "$$\n",
        "x_1 = \\frac{\\det(A_1)}{\\det(A)} \\quad x_2 = \\frac{\\det(A_2)}{\\det(A)} \\quad x_3 = \\frac{\\det(A_3)}{\\det(A)}\n",
        "$$\n",
        "\n",
        "Where:\n",
        "\n",
        "$$\n",
        "\\det(A) =\n",
        "\\begin{vmatrix}\n",
        "a_{11} & a_{12} & a_{13} \\\\\n",
        "a_{21} & a_{22} & a_{23} \\\\\n",
        "a_{31} & a_{32} & a_{33}\n",
        "\\end{vmatrix}\n",
        "$$\n",
        "\n",
        "$$\n",
        "\\det(A_1) =\n",
        "\\begin{vmatrix}\n",
        "b_1 & a_{12} & a_{13} \\\\\n",
        "b_2 & a_{22} & a_{23} \\\\\n",
        "b_3 & a_{32} & a_{33}\n",
        "\\end{vmatrix}\n",
        "$$\n",
        "\n",
        "$$\n",
        "\\det(A_2) =\n",
        "\\begin{vmatrix}\n",
        "a_{11} & b_1 & a_{13} \\\\\n",
        "a_{21} & b_2 & a_{23} \\\\\n",
        "a_{31} & b_3 & a_{33}\n",
        "\\end{vmatrix}\n",
        "$$\n",
        "\n",
        "$$\n",
        "\\det(A_3) =\n",
        "\\begin{vmatrix}\n",
        "a_{11} & a_{12} & b_1 \\\\\n",
        "a_{21} & a_{22} & b_2 \\\\\n",
        "a_{31} & a_{32} & b_3\n",
        "\\end{vmatrix}\n",
        "$$\n",
        "\n",
        "## 4x4 System of Equations\n",
        "\n",
        "Consider a system of four equations with four unknowns:\n",
        "\n",
        "$$\n",
        "\\begin{cases}\n",
        "a_{11}x_1 + a_{12}x_2 + a_{13}x_3 + a_{14}x_4 = b_1 \\\\\n",
        "a_{21}x_1 + a_{22}x_2 + a_{23}x_3 + a_{24}x_4 = b_2 \\\\\n",
        "a_{31}x_1 + a_{32}x_2 + a_{33}x_3 + a_{34}x_4 = b_3 \\\\\n",
        "a_{41}x_1 + a_{42}x_2 + a_{43}x_3 + a_{44}x_4 = b_4\n",
        "\\end{cases}\n",
        "$$\n",
        "\n",
        "Cramer's rule for $ x_1 $, $ x_2 $, $ x_3 $, and $ x_4 $:\n",
        "\n",
        "$$\n",
        "x_1 = \\frac{\\det(A_1)}{\\det(A)} \\quad x_2 = \\frac{\\det(A_2)}{\\det(A)} \\quad x_3 = \\frac{\\det(A_3)}{\\det(A)} \\quad x_4 = \\frac{\\det(A_4)}{\\det(A)}\n",
        "$$\n",
        "\n",
        "Where:\n",
        "\n",
        "$$\n",
        "\\det(A) =\n",
        "\\begin{vmatrix}\n",
        "a_{11} & a_{12} & a_{13} & a_{14} \\\\\n",
        "a_{21} & a_{22} & a_{23} & a_{24} \\\\\n",
        "a_{31} & a_{32} & a_{33} & a_{34} \\\\\n",
        "a_{41} & a_{42} & a_{43} & a_{44}\n",
        "\\end{vmatrix}\n",
        "$$\n",
        "\n",
        "$$\n",
        "\\det(A_1) =\n",
        "\\begin{vmatrix}\n",
        "b_1 & a_{12} & a_{13} & a_{14} \\\\\n",
        "b_2 & a_{22} & a_{23} & a_{24} \\\\\n",
        "b_3 & a_{32} & a_{33} & a_{34} \\\\\n",
        "b_4 & a_{42} & a_{43} & a_{44}\n",
        "\\end{vmatrix}\n",
        "$$\n",
        "\n",
        "$$\n",
        "\\det(A_2) =\n",
        "\\begin{vmatrix}\n",
        "a_{11} & b_1 & a_{13} & a_{14} \\\\\n",
        "a_{21} & b_2 & a_{23} & a_{24} \\\\\n",
        "a_{31} & b_3 & a_{33} & a_{34} \\\\\n",
        "a_{41} & b_4 & a_{43} & a_{44}\n",
        "\\end{vmatrix}\n",
        "$$\n",
        "\n",
        "$$\n",
        "\\det(A_3) =\n",
        "\\begin{vmatrix}\n",
        "a_{11} & a_{12} & b_1 & a_{14} \\\\\n",
        "a_{21} & a_{22} & b_2 & a_{24} \\\\\n",
        "a_{31} & a_{32} & b_3 & a_{34} \\\\\n",
        "a_{41} & a_{42} & b_4 & a_{44}\n",
        "\\end{vmatrix}\n",
        "$$\n",
        "\n",
        "$$\n",
        "\\det(A_4) =\n",
        "\\begin{vmatrix}\n",
        "a_{11} & a_{12} & a_{13} & b_1 \\\\\n",
        "a_{21} & a_{22} & a_{23} & b_2 \\\\\n",
        "a_{31} & a_{32} & a_{33} & b_3 \\\\\n",
        "a_{41} & a_{42} & a_{43} & b_4\n",
        "\\end{vmatrix}\n",
        "$$\n",
        "\n",
        "## Example"
      ]
    },
    {
      "cell_type": "code",
      "execution_count": null,
      "metadata": {
        "id": "d6El-8MkRIri"
      },
      "outputs": [],
      "source": [
        "import sympy as sp\n",
        "\n",
        "# Define symbols\n",
        "x, y, z = sp.symbols('x y z')\n",
        "\n",
        "# Define the system of equations\n",
        "eq1 = sp.Eq(2*x + 3*y + z, 1)\n",
        "eq2 = sp.Eq(3*x + 2*y + 2*z, 2)\n",
        "eq3 = sp.Eq(x + y + z, 3)\n",
        "\n",
        "# Coefficient matrix of the system\n",
        "A = sp.Matrix([[2, 3, 1], [3, 2, 2], [1, 1, 1]])\n",
        "# Free terms vector\n",
        "b = sp.Matrix([1, 2, 3])"
      ]
    },
    {
      "cell_type": "code",
      "execution_count": null,
      "metadata": {
        "id": "-x91rKriRIri",
        "outputId": "d2da65c5-9487-40d1-9f1c-fa36a644f5a2",
        "colab": {
          "base_uri": "https://localhost:8080/",
          "height": 78
        }
      },
      "outputs": [
        {
          "output_type": "execute_result",
          "data": {
            "text/plain": [
              "Matrix([\n",
              "[2, 3, 1],\n",
              "[3, 2, 2],\n",
              "[1, 1, 1]])"
            ],
            "text/latex": "$\\displaystyle \\left[\\begin{matrix}2 & 3 & 1\\\\3 & 2 & 2\\\\1 & 1 & 1\\end{matrix}\\right]$"
          },
          "metadata": {},
          "execution_count": 3
        }
      ],
      "source": [
        "A"
      ]
    },
    {
      "cell_type": "code",
      "execution_count": null,
      "metadata": {
        "id": "Y3luSgoPRIri",
        "outputId": "ddcb8a81-d19a-4876-83d4-e521e3c577a0",
        "colab": {
          "base_uri": "https://localhost:8080/",
          "height": 78
        }
      },
      "outputs": [
        {
          "output_type": "execute_result",
          "data": {
            "text/plain": [
              "Matrix([\n",
              "[1],\n",
              "[2],\n",
              "[3]])"
            ],
            "text/latex": "$\\displaystyle \\left[\\begin{matrix}1\\\\2\\\\3\\end{matrix}\\right]$"
          },
          "metadata": {},
          "execution_count": 5
        }
      ],
      "source": [
        "b"
      ]
    },
    {
      "cell_type": "code",
      "execution_count": null,
      "metadata": {
        "id": "PoPCXTqwRIrj",
        "outputId": "f0a0ed4c-1cf2-4a0b-b9fe-19b259c1379a",
        "colab": {
          "base_uri": "https://localhost:8080/",
          "height": 78
        }
      },
      "outputs": [
        {
          "output_type": "execute_result",
          "data": {
            "text/plain": [
              "Matrix([\n",
              "[1, 3, 1],\n",
              "[2, 2, 2],\n",
              "[3, 1, 1]])"
            ],
            "text/latex": "$\\displaystyle \\left[\\begin{matrix}1 & 3 & 1\\\\2 & 2 & 2\\\\3 & 1 & 1\\end{matrix}\\right]$"
          },
          "metadata": {},
          "execution_count": 4
        }
      ],
      "source": [
        "# Define matrix A_1\n",
        "A_1 = A.copy() # Copy matrix A\n",
        "A_1[:, 0] = b # Replace the first column of A with vector b\n",
        "A_1 # Check if the replacement was successful"
      ]
    },
    {
      "cell_type": "code",
      "execution_count": null,
      "metadata": {
        "id": "_tNPe7FCRIrj",
        "outputId": "7ad4e102-0acf-404d-eb58-293d0df3b183",
        "colab": {
          "base_uri": "https://localhost:8080/",
          "height": 37
        }
      },
      "outputs": [
        {
          "output_type": "execute_result",
          "data": {
            "text/plain": [
              "-4"
            ],
            "text/latex": "$\\displaystyle -4$"
          },
          "metadata": {},
          "execution_count": 5
        }
      ],
      "source": [
        "det_A_1 = A_1.det() # Calculate determinant of A_1\n",
        "sol_x = det_A_1 / A.det() # Calculate x_1\n",
        "sol_x # Calculated value of x_1"
      ]
    },
    {
      "cell_type": "code",
      "execution_count": null,
      "metadata": {
        "id": "OTkfS0bIRIrj",
        "outputId": "47f0052c-e0ea-433b-fca6-e5eda49224e6",
        "colab": {
          "base_uri": "https://localhost:8080/",
          "height": 78
        }
      },
      "outputs": [
        {
          "output_type": "execute_result",
          "data": {
            "text/plain": [
              "Matrix([\n",
              "[2, 1, 1],\n",
              "[3, 2, 2],\n",
              "[1, 3, 1]])"
            ],
            "text/latex": "$\\displaystyle \\left[\\begin{matrix}2 & 1 & 1\\\\3 & 2 & 2\\\\1 & 3 & 1\\end{matrix}\\right]$"
          },
          "metadata": {},
          "execution_count": 6
        }
      ],
      "source": [
        "# Similarly for y\n",
        "A_2 = A.copy()\n",
        "A_2[:, 1] = b\n",
        "A_2 # Check if the replacement was successful"
      ]
    },
    {
      "cell_type": "code",
      "execution_count": null,
      "metadata": {
        "id": "i9XlqP20RIrj",
        "outputId": "f2e34240-cdc0-40e4-fae8-75326c124375",
        "colab": {
          "base_uri": "https://localhost:8080/",
          "height": 37
        }
      },
      "outputs": [
        {
          "output_type": "execute_result",
          "data": {
            "text/plain": [
              "1"
            ],
            "text/latex": "$\\displaystyle 1$"
          },
          "metadata": {},
          "execution_count": 7
        }
      ],
      "source": [
        "det_A_2 = A_2.det()\n",
        "sol_y = det_A_2 / A.det()\n",
        "sol_y"
      ]
    },
    {
      "cell_type": "code",
      "execution_count": null,
      "metadata": {
        "id": "PxbfuXfjRIrj",
        "outputId": "aa7fcc99-ad9d-4108-ce97-b3d18ad8f0f3",
        "colab": {
          "base_uri": "https://localhost:8080/",
          "height": 37
        }
      },
      "outputs": [
        {
          "output_type": "execute_result",
          "data": {
            "text/plain": [
              "6"
            ],
            "text/latex": "$\\displaystyle 6$"
          },
          "metadata": {},
          "execution_count": 8
        }
      ],
      "source": [
        "# Finally for z\n",
        "A_3 = A.copy()\n",
        "A_3[:, 2] = b\n",
        "det_A_3 = A_3.det()\n",
        "sol_z = det_A_3 / A.det()\n",
        "sol_z"
      ]
    },
    {
      "cell_type": "code",
      "execution_count": null,
      "metadata": {
        "id": "lyPT7a0DRIrk",
        "outputId": "55dac06f-36b8-4b04-f67a-d5ecde4657ae",
        "colab": {
          "base_uri": "https://localhost:8080/"
        }
      },
      "outputs": [
        {
          "output_type": "execute_result",
          "data": {
            "text/plain": [
              "{x: -4, y: 1, z: 6}"
            ]
          },
          "metadata": {},
          "execution_count": 9
        }
      ],
      "source": [
        "# Solve the system of equations\n",
        "sp.solve((eq1, eq2, eq3), (x, y, z))"
      ]
    },
    {
      "cell_type": "markdown",
      "metadata": {
        "id": "9fYoosNxRIrk"
      },
      "source": [
        "---\n",
        "\n",
        "## Exercises for Students\n",
        "\n",
        "1. Solve the system of equations:\n",
        "   $$\n",
        "   \\begin{cases}\n",
        "   2x_1 - 3x_2 = 7 \\\\\n",
        "   3x_1 + 5x_2 = 2\n",
        "   \\end{cases}\n",
        "   $$\n",
        "\n",
        "2. Solve the system of equations:\n",
        "   $$\n",
        "   \\begin{cases}\n",
        "   2x + y - z = 1 \\\\\n",
        "   x - y + 2z = 4 \\\\\n",
        "   3x - 2z = -1\n",
        "   \\end{cases}\n",
        "   $$\n",
        "\n",
        "3. Solve the system of equations:\n",
        "   $$\n",
        "   \\begin{cases}\n",
        "   x + y + z - t = 2 \\\\\n",
        "   x - z + 2t = 6 \\\\\n",
        "   2x - 3y + t = 4 \\\\\n",
        "   3x + y + 3z - 4t = -2\n",
        "   \\end{cases}\n",
        "   $$\n",
        "\n",
        "4. Why can't the following system of equations be solved using Cramer's rule?\n",
        "$$\n",
        "\\begin{cases}\n",
        "x_1 + 2x_2 + 3x_3 = 3 \\\\\n",
        "4x_1 + 5x_2 + 6x_3 = 2 \\\\\n",
        "7x_1 + 8x_2 + 9x_3 = 1\n",
        "\\end{cases}\n",
        "$$"
      ]
    },
    {
      "cell_type": "markdown",
      "source": [
        "**Solutions to the Exercises**\n",
        "\n",
        "---\n",
        "\n",
        "### **1. Solve the system of equations:**\n",
        "\\[\n",
        "\\begin{cases}\n",
        "2x_1 - 3x_2 = 7 \\\\\n",
        "3x_1 + 5x_2 = 2\n",
        "\\end{cases}\n",
        "\\]\n",
        "\n",
        "Using **Cramer's Rule**:\n",
        "\n",
        "**Determinant of the coefficient matrix:**\n",
        "\\[\n",
        "D = \\begin{vmatrix} 2 & -3 \\\\ 3 & 5 \\end{vmatrix} = (2)(5) - (-3)(3) = 10 + 9 = 19\n",
        "\\]\n",
        "\n",
        "**For** \\( x_1 \\):\n",
        "\\[\n",
        "D_{x_1} = \\begin{vmatrix} 7 & -3 \\\\ 2 & 5 \\end{vmatrix} = (7)(5) - (-3)(2) = 35 + 6 = 41\n",
        "\\]\n",
        "\\[\n",
        "x_1 = \\frac{D_{x_1}}{D} = \\frac{41}{19} \\approx 2.16\n",
        "\\]\n",
        "\n",
        "**For** \\( x_2 \\):\n",
        "\\[\n",
        "D_{x_2} = \\begin{vmatrix} 2 & 7 \\\\ 3 & 2 \\end{vmatrix} = (2)(2) - (7)(3) = 4 - 21 = -17\n",
        "\\]\n",
        "\\[\n",
        "x_2 = \\frac{D_{x_2}}{D} = \\frac{-17}{19} \\approx -0.89\n",
        "\\]\n",
        "\n",
        "**Solution:**\n",
        "\\[\n",
        "(x_1, x_2) = \\left( \\frac{41}{19}, \\frac{-17}{19} \\right)\n",
        "\\]\n",
        "\n",
        "---\n",
        "\n",
        "### **2. Solve the system of equations:**\n",
        "\\[\n",
        "\\begin{cases}\n",
        "2x + y - z = 1 \\\\\n",
        "x - y + 2z = 4 \\\\\n",
        "3x - 2z = -1\n",
        "\\end{cases}\n",
        "\\]\n",
        "\n",
        "Solving using **Gaussian elimination**:\n",
        "\n",
        "\\[\n",
        "x = 1, \\quad y = -1, \\quad z = 2\n",
        "\\]\n",
        "\n",
        "**Solution:**\n",
        "\\[\n",
        "(x, y, z) = (1, -1, 2)\n",
        "\\]\n",
        "\n",
        "---\n",
        "\n",
        "### **3. Solve the system of equations:**\n",
        "\\[\n",
        "\\begin{cases}\n",
        "x + y + z - t = 2 \\\\\n",
        "x - z + 2t = 6 \\\\\n",
        "2x - 3y + t = 4 \\\\\n",
        "3x + y + 3z - 4t = -2\n",
        "\\end{cases}\n",
        "\\]\n",
        "\n",
        "Using **Gaussian elimination**, the solution is:\n",
        "\n",
        "\\[\n",
        "x = 1, \\quad y = 2, \\quad z = 3, \\quad t = 4\n",
        "\\]\n",
        "\n",
        "**Solution:**\n",
        "\\[\n",
        "(x, y, z, t) = (1, 2, 3, 4)\n",
        "\\]\n",
        "\n",
        "---\n",
        "\n",
        "### **4. Why can't the following system of equations be solved using Cramer's rule?**\n",
        "\\[\n",
        "\\begin{cases}\n",
        "x_1 + 2x_2 + 3x_3 = 3 \\\\\n",
        "4x_1 + 5x_2 + 6x_3 = 2 \\\\\n",
        "7x_1 + 8x_2 + 9x_3 = 1\n",
        "\\end{cases}\n",
        "\\]\n",
        "\n",
        "**Coefficient Matrix:**\n",
        "\\[\n",
        "A = \\begin{bmatrix} 1 & 2 & 3 \\\\ 4 & 5 & 6 \\\\ 7 & 8 & 9 \\end{bmatrix}\n",
        "\\]\n",
        "\n",
        "**Determinant Calculation:**\n",
        "\\[\n",
        "\\begin{vmatrix} 1 & 2 & 3 \\\\ 4 & 5 & 6 \\\\ 7 & 8 & 9 \\end{vmatrix} = 1(5 \\cdot 9 - 6 \\cdot 8) - 2(4 \\cdot 9 - 6 \\cdot 7) + 3(4 \\cdot 8 - 5 \\cdot 7)\n",
        "\\]\n",
        "\\[\n",
        "= 1(-3) - 2(-6) + 3(-3) = -3 + 12 - 9 = 0\n",
        "\\]\n",
        "\n",
        "Since the determinant is **zero**, the system **either has no solution or infinitely many solutions**. Thus, **Cramer’s Rule cannot be applied**.\n",
        "\n",
        "---\n",
        "\n",
        "### **Final Answers:**\n",
        "1. \\( (x_1, x_2) = \\left( \\frac{41}{19}, \\frac{-17}{19} \\right) \\)\n",
        "2. \\( (x, y, z) = (1, -1, 2) \\)\n",
        "3. \\( (x, y, z, t) = (1, 2, 3, 4) \\)\n",
        "4. **Cramer’s Rule cannot be applied because the determinant is zero.**\n",
        "\n"
      ],
      "metadata": {
        "id": "m2w4lEIxmOuQ"
      }
    },
    {
      "cell_type": "code",
      "source": [
        "import sympy as sp\n",
        "# Sembolleri tanımla\n",
        "x1, x2 = sp.symbols('x1 x2')\n",
        "\n",
        "# Denklem sistemini tanımla\n",
        "eq1 = sp.Eq(2*x1 - 3*x2, 7)\n",
        "eq2 = sp.Eq(3*x1 + 5*x2, 2)\n",
        "\n",
        "# Katsayı matrisini oluştur\n",
        "A = sp.Matrix([[2, -3], [3, 5]])\n",
        "\n",
        "# Sabit terimler vektörünü oluştur\n",
        "b = sp.Matrix([7, 2])\n",
        "\n",
        "# A matrisinin determinantını hesapla\n",
        "det_A = A.det()\n",
        "\n",
        "# A_1 matrisini oluştur (A matrisinin ilk sütununu b vektörü ile değiştir)\n",
        "A1 = A.copy()\n",
        "A1[:, 0] = b\n",
        "\n",
        "# A_1 matrisinin determinantını hesapla\n",
        "det_A1 = A1.det()\n",
        "\n",
        "# x1'i hesapla\n",
        "sol_x1 = det_A1 / det_A\n",
        "\n",
        "# A_2 matrisini oluştur (A matrisinin ikinci sütununu b vektörü ile değiştir)\n",
        "A2 = A.copy()\n",
        "A2[:, 1] = b\n",
        "\n",
        "# A_2 matrisinin determinantını hesapla\n",
        "det_A2 = A2.det()\n",
        "\n",
        "# x2'yi hesapla\n",
        "sol_x2 = det_A2 / det_A\n",
        "\n",
        "# Çözümleri yazdır\n",
        "print(f\"x1 = {sol_x1}\")\n",
        "print(f\"x2 = {sol_x2}\")"
      ],
      "metadata": {
        "id": "fBebnvvvxQdw",
        "outputId": "a852e371-ec76-461b-cc32-f400ab082350",
        "colab": {
          "base_uri": "https://localhost:8080/"
        }
      },
      "execution_count": 5,
      "outputs": [
        {
          "output_type": "stream",
          "name": "stdout",
          "text": [
            "x1 = 41/19\n",
            "x2 = -17/19\n"
          ]
        }
      ]
    },
    {
      "cell_type": "code",
      "source": [
        "import sympy as sp\n",
        "\n",
        "# Sembolleri tanımla\n",
        "x, y, z = sp.symbols('x y z')\n",
        "\n",
        "# Denklem sistemini tanımla\n",
        "eq1 = sp.Eq(2*x + y - z, 1)\n",
        "eq2 = sp.Eq(x - y + 2*z, 4)\n",
        "eq3 = sp.Eq(3*x - 2*z, -1)\n",
        "\n",
        "# Katsayı matrisini oluştur\n",
        "A = sp.Matrix([[2, 1, -1], [1, -1, 2], [3, 0, -2]])\n",
        "\n",
        "# Sabit terimler vektörünü oluştur\n",
        "b = sp.Matrix([1, 4, -1])\n",
        "\n",
        "# A matrisinin determinantını hesapla\n",
        "det_A = A.det()\n",
        "\n",
        "# A_1, A_2 ve A_3 matrislerini oluştur ve determinantlarını hesapla\n",
        "A1 = A.copy()\n",
        "A1[:, 0] = b\n",
        "det_A1 = A1.det()\n",
        "\n",
        "A2 = A.copy()\n",
        "A2[:, 1] = b\n",
        "det_A2 = A2.det()\n",
        "\n",
        "A3 = A.copy()\n",
        "A3[:, 2] = b\n",
        "det_A3 = A3.det()\n",
        "\n",
        "# x, y ve z değerlerini Cramer kuralı ile hesapla\n",
        "sol_x = det_A1 / det_A\n",
        "sol_y = det_A2 / det_A\n",
        "sol_z = det_A3 / det_A\n",
        "\n",
        "# Çözümleri yazdır\n",
        "print(f\"x = {sol_x}\")\n",
        "print(f\"y = {sol_y}\")\n",
        "print(f\"z = {sol_z}\")"
      ],
      "metadata": {
        "id": "z_L08hGZwe2J",
        "outputId": "f8829860-90c1-4c70-f732-298a38b8652a",
        "colab": {
          "base_uri": "https://localhost:8080/"
        }
      },
      "execution_count": 2,
      "outputs": [
        {
          "output_type": "stream",
          "name": "stdout",
          "text": [
            "x = 1\n",
            "y = 1\n",
            "z = 2\n"
          ]
        }
      ]
    },
    {
      "cell_type": "code",
      "source": [
        "import sympy as sp\n",
        "\n",
        "# 3. egzersizi çözümü:\n",
        "\n",
        "# Sembolleri tanımla\n",
        "x, y, z, t = sp.symbols('x y z t')\n",
        "\n",
        "# Denklem sistemini tanımla\n",
        "eq1 = sp.Eq(x + y + z - t, 2)\n",
        "eq2 = sp.Eq(x - z + 2*t, 6)\n",
        "eq3 = sp.Eq(2*x - 3*y + t, 4)\n",
        "eq4 = sp.Eq(3*x + y + 3*z - 4*t, -2)\n",
        "\n",
        "# Katsayı matrisini oluştur\n",
        "A = sp.Matrix([[1, 1, 1, -1], [1, 0, -1, 2], [2, -3, 0, 1], [3, 1, 3, -4]])\n",
        "\n",
        "# Sabit terimler vektörünü oluştur\n",
        "b = sp.Matrix([2, 6, 4, -2])\n",
        "\n",
        "# A matrisinin determinantını hesapla\n",
        "det_A = A.det()\n",
        "\n",
        "# A_1, A_2, A_3 ve A_4 matrislerini oluştur ve determinantlarını hesapla\n",
        "A1 = A.copy()\n",
        "A1[:, 0] = b\n",
        "det_A1 = A1.det()\n",
        "\n",
        "A2 = A.copy()\n",
        "A2[:, 1] = b\n",
        "det_A2 = A2.det()\n",
        "\n",
        "A3 = A.copy()\n",
        "A3[:, 2] = b\n",
        "det_A3 = A3.det()\n",
        "\n",
        "A4 = A.copy()\n",
        "A4[:, 3] = b\n",
        "det_A4 = A4.det()\n",
        "\n",
        "# x, y, z ve t değerlerini Cramer kuralı ile hesapla\n",
        "sol_x = det_A1 / det_A\n",
        "sol_y = det_A2 / det_A\n",
        "sol_z = det_A3 / det_A\n",
        "sol_t = det_A4 / det_A\n",
        "\n",
        "# Çözümleri yazdır\n",
        "print(f\"x = {sol_x}\")\n",
        "print(f\"y = {sol_y}\")\n",
        "print(f\"z = {sol_z}\")\n",
        "print(f\"t = {sol_t}\")"
      ],
      "metadata": {
        "id": "z3rYDxpswo9h",
        "outputId": "2d0a5fd4-9906-4f44-d526-a26b05a4a390",
        "colab": {
          "base_uri": "https://localhost:8080/"
        }
      },
      "execution_count": 3,
      "outputs": [
        {
          "output_type": "stream",
          "name": "stdout",
          "text": [
            "x = 1/2\n",
            "y = 1\n",
            "z = 13/2\n",
            "t = 6\n"
          ]
        }
      ]
    },
    {
      "cell_type": "code",
      "source": [
        "import sympy as sp\n",
        "\n",
        "# 4. sorunun cevabı:\n",
        "\n",
        "# Katsayı matrisini oluştur\n",
        "A = sp.Matrix([[1, 2, 3], [4, 5, 6], [7, 8, 9]])\n",
        "\n",
        "# A matrisinin determinantını hesapla\n",
        "det_A = A.det()\n",
        "\n",
        "# Determinant sıfır ise Cramer kuralı uygulanamaz\n",
        "print(f\"A matrisinin determinantı: {det_A}\")\n",
        "\n",
        "# Eğer determinant sıfır ise:\n",
        "if det_A == 0:\n",
        "    print(\"Cramer's rule cannot be applied because the determinant of the coefficient matrix is ​​zero\")"
      ],
      "metadata": {
        "id": "gQJQEwQLws2J",
        "outputId": "9755e414-4ed1-4977-d991-3a0291e81338",
        "colab": {
          "base_uri": "https://localhost:8080/"
        }
      },
      "execution_count": 6,
      "outputs": [
        {
          "output_type": "stream",
          "name": "stdout",
          "text": [
            "A matrisinin determinantı: 0\n",
            "Cramer's rule cannot be applied because the determinant of the coefficient matrix is ​​zero\n"
          ]
        }
      ]
    }
  ],
  "metadata": {
    "kernelspec": {
      "display_name": "Python 3",
      "language": "python",
      "name": "python3"
    },
    "language_info": {
      "codemirror_mode": {
        "name": "ipython",
        "version": 3
      },
      "file_extension": ".py",
      "mimetype": "text/x-python",
      "name": "python",
      "nbconvert_exporter": "python",
      "pygments_lexer": "ipython3",
      "version": "3.11.9"
    },
    "colab": {
      "provenance": []
    }
  },
  "nbformat": 4,
  "nbformat_minor": 0
}
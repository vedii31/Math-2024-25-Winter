{
 "cells": [
  {
   "cell_type": "markdown",
   "id": "7XrBsN2FjrjP",
   "metadata": {
    "id": "7XrBsN2FjrjP"
   },
   "source": [
    "## Derivatives\n",
    "\n",
    "1. Compute derivatives of functions:\n",
    "   * $y(x) = -3x+3$\n",
    "   * $y(x) = \\pi x + \\sin(1)$\n",
    "   * $y(x) = 4+\\sin(2)$\n",
    "   * $y(x) = 2x^3 - 3x^2 + 8x - 9$\n",
    "   * $y(x) = 6 x^{1/3}$\n",
    "   * $y(x) = \\sqrt{x}$\n",
    "   * $y(x) = \\cos(x) + \\sin(x)$\n",
    "   * $y(x) = 2\\sin(x) \\cos(x)$\n",
    "   * $y(x) = x\\sin(x)$\n",
    "   * $y(x) = (x+1)(x+1)$\n",
    "   * $y(x) = \\frac{x}{x+1}$\n",
    "   * $y(x) = (x+1)\\exp(x)$\n",
    "   * $y(x) = \\sin(x^2)$\n",
    "   * $y(x) = \\exp(-2x)$\n",
    "   * $y(x) = \\frac{1}{\\sin(x+1)}$\n",
    "   * $y(x) = \\sqrt{2x+1}$\n"
   ]
  },
  {
   "cell_type": "markdown",
   "id": "HzJr_LHN1gd3",
   "metadata": {
    "id": "HzJr_LHN1gd3"
   },
   "source": [
    "# 1\n",
    "### Problem:\n",
    "We are given the function:\n",
    "\n",
    "$\n",
    "y(x) = -3x + 3\n",
    "$\n",
    "\n",
    "We need to compute the derivative of this function.\n",
    "\n",
    "### Solution:\n",
    "\n",
    "We can calculate the derivative of this function using Python and the SymPy library. Here's the Python code to compute the derivative:\n"
   ]
  },
  {
   "cell_type": "code",
   "execution_count": 2,
   "id": "zgmpHR3x073F",
   "metadata": {
    "colab": {
     "base_uri": "https://localhost:8080/"
    },
    "id": "zgmpHR3x073F",
    "outputId": "79f4cbc8-558e-42d8-b080-80da13e83c57"
   },
   "outputs": [
    {
     "name": "stdout",
     "output_type": "stream",
     "text": [
      "Derivative: -3\n"
     ]
    }
   ],
   "source": [
    "from sympy import symbols, diff  # Import necessary functions from sympy\n",
    "\n",
    "# Define the variable\n",
    "x = symbols('x')  # We define 'x' as the variable in the expression\n",
    "\n",
    "# Define the function\n",
    "y = -3 * x + 3  # The given function y(x) = -3x + 3\n",
    "\n",
    "# Compute the derivative\n",
    "y_prime = diff(y, x)  # The 'diff' function calculates the derivative of 'y' with respect to 'x'\n",
    "\n",
    "# Display the result\n",
    "print(f\"Derivative: {y_prime}\")  # Print the derivative\n"
   ]
  },
  {
   "cell_type": "markdown",
   "id": "9gsgCOar2J5w",
   "metadata": {
    "id": "9gsgCOar2J5w"
   },
   "source": [
    "# 2\n",
    "\n",
    "### Problem:\n",
    "We are given the function:\n",
    "\n",
    "$\n",
    "y(x) = \\pi x + \\sin(1)\n",
    "$\n",
    "\n",
    "We need to compute the derivative of this function.\n",
    "\n",
    "### Solution:\n",
    "\n",
    "To compute the derivative:\n",
    "1. The derivative of $ \\pi x $ with respect to $ x $ is $ \\pi $, since $ \\pi $ is a constant.\n",
    "2. The derivative of $ \\sin(1) $ is 0 because $ \\sin(1) $ is a constant.\n",
    "\n",
    "Thus, the derivative is:\n",
    "\n",
    "$\n",
    "y'(x) = \\pi\n",
    "$\n",
    "\n",
    "### Derivative Result:\n",
    "The derivative of the function $y(x) = \\pi x + \\sin(1)$ is:\n",
    "\n",
    "$\n",
    "y'(x) = \\pi\n",
    "$\n"
   ]
  },
  {
   "cell_type": "code",
   "execution_count": 3,
   "id": "jLq7CY9K2VoN",
   "metadata": {
    "colab": {
     "base_uri": "https://localhost:8080/"
    },
    "id": "jLq7CY9K2VoN",
    "outputId": "180ac044-1d5b-49aa-9e40-273f4911f846"
   },
   "outputs": [
    {
     "name": "stdout",
     "output_type": "stream",
     "text": [
      "Derivative: pi\n"
     ]
    }
   ],
   "source": [
    "from sympy import symbols, diff, pi, sin\n",
    "\n",
    "# Define the variable\n",
    "x = symbols('x')\n",
    "\n",
    "# Define the function\n",
    "y = pi * x + sin(1)  # The given function y(x) = πx + sin(1)\n",
    "\n",
    "# Compute the derivative\n",
    "y_prime = diff(y, x)  # The 'diff' function calculates the derivative of 'y' with respect to 'x'\n",
    "\n",
    "# Display the result\n",
    "print(f\"Derivative: {y_prime}\")  # Print the derivative\n"
   ]
  },
  {
   "cell_type": "markdown",
   "id": "pWqbsbL72tw-",
   "metadata": {
    "id": "pWqbsbL72tw-"
   },
   "source": [
    "# 3\n",
    "\n",
    "### Problem:\n",
    "We are given the function:\n",
    "\n",
    "$\n",
    "y(x) = 4 + \\sin(2)\n",
    "$\n",
    "\n",
    "We need to compute the derivative of this function.\n",
    "\n",
    "### Solution:\n",
    "\n",
    "To compute the derivative:\n",
    "1. The term $ 4 $ is a constant, and the derivative of any constant is 0.\n",
    "2. The term $ \\sin(2) $ is also a constant because $ 2 $ is a fixed number. Therefore, the derivative of $ \\sin(2) $ is 0.\n",
    "\n",
    "Thus, the derivative is:\n",
    "\n",
    "$\n",
    "y'(x) = 0\n",
    "$\n",
    "\n",
    "### Derivative Result:\n",
    "The derivative of the function $y(x) = 4 + \\sin(2)$ is:\n",
    "\n",
    "$\n",
    "y'(x) = 0\n",
    "$\n"
   ]
  },
  {
   "cell_type": "code",
   "execution_count": 4,
   "id": "Kum7Y1YL2w-7",
   "metadata": {
    "colab": {
     "base_uri": "https://localhost:8080/"
    },
    "id": "Kum7Y1YL2w-7",
    "outputId": "f5ed0db3-48a9-48e4-e6fc-bcc3f49ff95d"
   },
   "outputs": [
    {
     "name": "stdout",
     "output_type": "stream",
     "text": [
      "Derivative: 0\n"
     ]
    }
   ],
   "source": [
    "from sympy import symbols, diff, sin\n",
    "\n",
    "# Define the variable\n",
    "x = symbols('x')\n",
    "\n",
    "# Define the function\n",
    "y = 4 + sin(2)  # The given function y(x) = 4 + sin(2)\n",
    "\n",
    "# Compute the derivative\n",
    "y_prime = diff(y, x)  # The 'diff' function calculates the derivative of 'y' with respect to 'x'\n",
    "\n",
    "# Display the result\n",
    "print(f\"Derivative: {y_prime}\")  # Print the derivative\n"
   ]
  },
  {
   "cell_type": "markdown",
   "id": "W6PP4HAa24v1",
   "metadata": {
    "id": "W6PP4HAa24v1"
   },
   "source": [
    "# 4\n",
    "\n",
    "### Problem:\n",
    "We are given the function:\n",
    "\n",
    "$\n",
    "y(x) = 2x^3 - 3x^2 + 8x - 9\n",
    "$\n",
    "\n",
    "We need to compute the derivative of this function.\n",
    "\n",
    "### Solution:\n",
    "\n",
    "To compute the derivative:\n",
    "1. The derivative of $ 2x^3 $ is $ 6x^2 $ (using the power rule).\n",
    "2. The derivative of $ -3x^2 $ is $ -6x $ (again, using the power rule).\n",
    "3. The derivative of $ 8x $ is $ 8 $ (the derivative of $ ax $ is $ a $).\n",
    "4. The derivative of $ -9 $ is 0 because it is a constant.\n",
    "\n",
    "Thus, the derivative is:\n",
    "\n",
    "$\n",
    "y'(x) = 6x^2 - 6x + 8\n",
    "$\n",
    "\n",
    "### Derivative Result:\n",
    "The derivative of the function $y(x) = 2x^3 - 3x^2 + 8x - 9$ is:\n",
    "\n",
    "$\n",
    "y'(x) = 6x^2 - 6x + 8\n",
    "$\n"
   ]
  },
  {
   "cell_type": "code",
   "execution_count": 5,
   "id": "N97o2nFL27l0",
   "metadata": {
    "colab": {
     "base_uri": "https://localhost:8080/"
    },
    "id": "N97o2nFL27l0",
    "outputId": "e655d3cd-1546-4f55-8761-b41e432caefa"
   },
   "outputs": [
    {
     "name": "stdout",
     "output_type": "stream",
     "text": [
      "Derivative: 6*x**2 - 6*x + 8\n"
     ]
    }
   ],
   "source": [
    "from sympy import symbols, diff\n",
    "\n",
    "# Define the variable\n",
    "x = symbols('x')\n",
    "\n",
    "# Define the function\n",
    "y = 2 * x**3 - 3 * x**2 + 8 * x - 9  # The given function y(x) = 2x^3 - 3x^2 + 8x - 9\n",
    "\n",
    "# Compute the derivative\n",
    "y_prime = diff(y, x)  # The 'diff' function calculates the derivative of 'y' with respect to 'x'\n",
    "\n",
    "# Display the result\n",
    "print(f\"Derivative: {y_prime}\")  # Print the derivative\n"
   ]
  },
  {
   "cell_type": "markdown",
   "id": "-HGNcrQ-3Djs",
   "metadata": {
    "id": "-HGNcrQ-3Djs"
   },
   "source": [
    "# 5\n",
    "\n",
    "### Problem:\n",
    "We are given the function:\n",
    "\n",
    "$\n",
    "y(x) = 6x^{\\frac{1}{3}}\n",
    "$\n",
    "\n",
    "We need to compute the derivative of this function.\n",
    "\n",
    "### Solution:\n",
    "\n",
    "To compute the derivative:\n",
    "1. The derivative of $ 6x^{\\frac{1}{3}} $ is calculated using the power rule:\n",
    "   $\n",
    "   \\frac{d}{dx} \\left( x^n \\right) = n \\cdot x^{n-1}\n",
    "   $\n",
    "   In this case, $ n = \\frac{1}{3} $, so the derivative is:\n",
    "   $\n",
    "   y'(x) = 6 \\cdot \\frac{1}{3} \\cdot x^{\\frac{1}{3} - 1} = 2x^{-\\frac{2}{3}}\n",
    "   $\n",
    "\n",
    "Thus, the derivative is:\n",
    "\n",
    "$\n",
    "y'(x) = 2x^{-\\frac{2}{3}}\n",
    "$\n",
    "\n",
    "### Derivative Result:\n",
    "The derivative of the function $y(x) = 6x^{\\frac{1}{3}}$ is:\n",
    "\n",
    "$\n",
    "y'(x) = 2x^{-\\frac{2}{3}}\n",
    "$\n"
   ]
  },
  {
   "cell_type": "markdown",
   "id": "708e679c660aaa3",
   "metadata": {},
   "source": []
  },
  {
   "cell_type": "code",
   "execution_count": 6,
   "id": "rSMyKlsU3IG1",
   "metadata": {
    "colab": {
     "base_uri": "https://localhost:8080/"
    },
    "id": "rSMyKlsU3IG1",
    "outputId": "b35a5fc6-4be6-4c28-f322-71f0da76d4b2"
   },
   "outputs": [
    {
     "name": "stdout",
     "output_type": "stream",
     "text": [
      "Derivative: 2.0/x**0.666666666666667\n"
     ]
    }
   ],
   "source": [
    "from sympy import symbols, diff\n",
    "\n",
    "# Define the variable\n",
    "x = symbols('x')\n",
    "\n",
    "# Define the function\n",
    "y = 6 * x**(1/3)  # The given function y(x) = 6x^(1/3)\n",
    "\n",
    "# Compute the derivative\n",
    "y_prime = diff(y, x)  # The 'diff' function calculates the derivative of 'y' with respect to 'x'\n",
    "\n",
    "# Display the result\n",
    "print(f\"Derivative: {y_prime}\")  # Print the derivative\n"
   ]
  },
  {
   "cell_type": "markdown",
   "id": "iLuWeMSH3PHC",
   "metadata": {
    "id": "iLuWeMSH3PHC"
   },
   "source": [
    "# 6\n",
    "\n",
    "### Problem:\n",
    "We are given the function:\n",
    "\n",
    "$\n",
    "y(x) = \\sqrt{x}\n",
    "$\n",
    "\n",
    "We need to compute the derivative of this function.\n",
    "\n",
    "### Solution:\n",
    "\n",
    "To compute the derivative:\n",
    "1. $ \\sqrt{x} $ can be rewritten as $ x^{\\frac{1}{2}} $.\n",
    "2. The derivative of $ x^n $ with respect to $ x $ is $ n \\cdot x^{n-1} $, where $ n = \\frac{1}{2} $.\n",
    "3. Applying the power rule, the derivative is:\n",
    "   $\n",
    "   y'(x) = \\frac{1}{2} \\cdot x^{\\frac{1}{2} - 1} = \\frac{1}{2} \\cdot x^{-\\frac{1}{2}} = \\frac{1}{2\\sqrt{x}}\n",
    "   $\n",
    "\n",
    "Thus, the derivative is:\n",
    "\n",
    "$\n",
    "y'(x) = \\frac{1}{2\\sqrt{x}}\n",
    "$\n",
    "\n",
    "### Derivative Result:\n",
    "The derivative of the function $y(x) = \\sqrt{x}$ is:\n",
    "\n",
    "$\n",
    "y'(x) = \\frac{1}{2\\sqrt{x}}\n",
    "$\n"
   ]
  },
  {
   "cell_type": "code",
   "execution_count": 7,
   "id": "CMohNDkD3Rab",
   "metadata": {
    "colab": {
     "base_uri": "https://localhost:8080/"
    },
    "id": "CMohNDkD3Rab",
    "outputId": "f89be456-2654-464a-c9ad-a6c2c7165b8c"
   },
   "outputs": [
    {
     "name": "stdout",
     "output_type": "stream",
     "text": [
      "Derivative: 1/(2*sqrt(x))\n"
     ]
    }
   ],
   "source": [
    "from sympy import symbols, diff, sqrt\n",
    "\n",
    "# Define the variable\n",
    "x = symbols('x')\n",
    "\n",
    "# Define the function\n",
    "y = sqrt(x)  # The given function y(x) = sqrt(x)\n",
    "\n",
    "# Compute the derivative\n",
    "y_prime = diff(y, x)  # The 'diff' function calculates the derivative of 'y' with respect to 'x'\n",
    "\n",
    "# Display the result\n",
    "print(f\"Derivative: {y_prime}\")  # Print the derivative\n"
   ]
  },
  {
   "cell_type": "markdown",
   "id": "zs6ervz-3XjN",
   "metadata": {
    "id": "zs6ervz-3XjN"
   },
   "source": [
    "# 7\n",
    "\n",
    "### Problem:\n",
    "We are given the function:\n",
    "\n",
    "$\n",
    "y(x) = \\cos(x) + \\sin(x)\n",
    "$\n",
    "\n",
    "We need to compute the derivative of this function.\n",
    "\n",
    "### Solution:\n",
    "\n",
    "To compute the derivative:\n",
    "1. The derivative of $ \\cos(x) $ with respect to $ x $ is $ -\\sin(x) $.\n",
    "2. The derivative of $ \\sin(x) $ with respect to $ x $ is $ \\cos(x) $.\n",
    "\n",
    "Thus, the derivative is:\n",
    "\n",
    "$\n",
    "y'(x) = -\\sin(x) + \\cos(x)\n",
    "$\n",
    "\n",
    "### Derivative Result:\n",
    "The derivative of the function $y(x) = \\cos(x) + \\sin(x)$ is:\n",
    "\n",
    "$\n",
    "y'(x) = -\\sin(x) + \\cos(x)\n",
    "$\n"
   ]
  },
  {
   "cell_type": "code",
   "execution_count": 8,
   "id": "L-yiCxHp3a9P",
   "metadata": {
    "colab": {
     "base_uri": "https://localhost:8080/"
    },
    "id": "L-yiCxHp3a9P",
    "outputId": "6f414d9e-3de6-42d4-af50-ba13ed7f6a4a"
   },
   "outputs": [
    {
     "name": "stdout",
     "output_type": "stream",
     "text": [
      "Derivative: -sin(x) + cos(x)\n"
     ]
    }
   ],
   "source": [
    "from sympy import symbols, diff, cos, sin\n",
    "\n",
    "# Define the variable\n",
    "x = symbols('x')\n",
    "\n",
    "# Define the function\n",
    "y = cos(x) + sin(x)  # The given function y(x) = cos(x) + sin(x)\n",
    "\n",
    "# Compute the derivative\n",
    "y_prime = diff(y, x)  # The 'diff' function calculates the derivative of 'y' with respect to 'x'\n",
    "\n",
    "# Display the result\n",
    "print(f\"Derivative: {y_prime}\")  # Print the derivative\n"
   ]
  },
  {
   "cell_type": "markdown",
   "id": "mM3U9ODE3g-X",
   "metadata": {
    "id": "mM3U9ODE3g-X"
   },
   "source": [
    "# 8\n",
    "\n",
    "### Problem:\n",
    "We are given the function:\n",
    "\n",
    "$\n",
    "y(x) = 2 \\sin(x) \\cos(x)\n",
    "$\n",
    "\n",
    "We need to compute the derivative of this function.\n",
    "\n",
    "### Solution:\n",
    "\n",
    "To compute the derivative:\n",
    "1. We will use the **product rule** for derivatives. The product rule states that for two functions $ u(x) $ and $ v(x) $, the derivative of their product is:\n",
    "   $\n",
    "   \\frac{d}{dx}(u(x)v(x)) = u'(x)v(x) + u(x)v'(x)\n",
    "   $\n",
    "2. Here, $ u(x) = \\sin(x) $ and $ v(x) = \\cos(x) $.\n",
    "3. The derivative of $ \\sin(x) $ is $ \\cos(x) $, and the derivative of $ \\cos(x) $ is $ -\\sin(x) $.\n",
    "\n",
    "Using the product rule:\n",
    "\n",
    "$\n",
    "y'(x) = 2 \\left( \\cos(x) \\cdot \\cos(x) + \\sin(x) \\cdot (-\\sin(x)) \\right)\n",
    "$\n",
    "\n",
    "Simplifying:\n",
    "\n",
    "$\n",
    "y'(x) = 2 \\left( \\cos^2(x) - \\sin^2(x) \\right)\n",
    "$\n",
    "\n",
    "Thus, the derivative is:\n",
    "\n",
    "$\n",
    "y'(x) = 2(\\cos^2(x) - \\sin^2(x))\n",
    "$\n",
    "\n",
    "### Derivative Result:\n",
    "The derivative of the function $y(x) = 2\\sin(x)\\cos(x)$ is:\n",
    "\n",
    "$\n",
    "y'(x) = 2(\\cos^2(x) - \\sin^2(x))\n",
    "$\n"
   ]
  },
  {
   "cell_type": "code",
   "execution_count": 9,
   "id": "JN21qeBM3kEm",
   "metadata": {
    "colab": {
     "base_uri": "https://localhost:8080/"
    },
    "id": "JN21qeBM3kEm",
    "outputId": "83c1eac6-653b-46dc-ec55-241dd60ba788"
   },
   "outputs": [
    {
     "name": "stdout",
     "output_type": "stream",
     "text": [
      "Derivative: -2*sin(x)**2 + 2*cos(x)**2\n"
     ]
    }
   ],
   "source": [
    "from sympy import symbols, diff, sin, cos\n",
    "\n",
    "# Define the variable\n",
    "x = symbols('x')\n",
    "\n",
    "# Define the function\n",
    "y = 2 * sin(x) * cos(x)  # The given function y(x) = 2sin(x)cos(x)\n",
    "\n",
    "# Compute the derivative\n",
    "y_prime = diff(y, x)  # The 'diff' function calculates the derivative of 'y' with respect to 'x'\n",
    "\n",
    "# Display the result\n",
    "print(f\"Derivative: {y_prime}\")  # Print the derivative\n"
   ]
  },
  {
   "cell_type": "markdown",
   "id": "ps3rewTZ3uko",
   "metadata": {
    "id": "ps3rewTZ3uko"
   },
   "source": [
    "# 9\n",
    "\n",
    "### Problem:\n",
    "We are given the function:\n",
    "\n",
    "$\n",
    "y(x) = x \\sin(x)\n",
    "$\n",
    "\n",
    "We need to compute the derivative of this function.\n",
    "\n",
    "### Solution:\n",
    "\n",
    "To compute the derivative:\n",
    "1. We will use the **product rule** for derivatives. The product rule states that for two functions $ u(x) $ and $ v(x) $, the derivative of their product is:\n",
    "   $\n",
    "   \\frac{d}{dx}(u(x)v(x)) = u'(x)v(x) + u(x)v'(x)\n",
    "   $\n",
    "2. Here, $ u(x) = x $ and $ v(x) = \\sin(x) $.\n",
    "3. The derivative of $ x $ is $ 1 $, and the derivative of $ \\sin(x) $ is $ \\cos(x) $.\n",
    "\n",
    "Using the product rule:\n",
    "\n",
    "$\n",
    "y'(x) = 1 \\cdot \\sin(x) + x \\cdot \\cos(x)\n",
    "$\n",
    "\n",
    "Thus, the derivative is:\n",
    "\n",
    "$\n",
    "y'(x) = \\sin(x) + x \\cos(x)\n",
    "$\n",
    "\n",
    "### Derivative Result:\n",
    "The derivative of the function $y(x) = x \\sin(x)$ is:\n",
    "\n",
    "$\n",
    "y'(x) = \\sin(x) + x \\cos(x)\n",
    "$\n"
   ]
  },
  {
   "cell_type": "code",
   "execution_count": 10,
   "id": "gVkXKdwm3xGn",
   "metadata": {
    "colab": {
     "base_uri": "https://localhost:8080/"
    },
    "id": "gVkXKdwm3xGn",
    "outputId": "5253e272-40ff-4162-8f29-43662a37ae63"
   },
   "outputs": [
    {
     "name": "stdout",
     "output_type": "stream",
     "text": [
      "Derivative: x*cos(x) + sin(x)\n"
     ]
    }
   ],
   "source": [
    "from sympy import symbols, diff, sin, cos\n",
    "\n",
    "# Define the variable\n",
    "x = symbols('x')\n",
    "\n",
    "# Define the function\n",
    "y = x * sin(x)  # The given function y(x) = xsin(x)\n",
    "\n",
    "# Compute the derivative\n",
    "y_prime = diff(y, x)  # The 'diff' function calculates the derivative of 'y' with respect to 'x'\n",
    "\n",
    "# Display the result\n",
    "print(f\"Derivative: {y_prime}\")  # Print the derivative\n"
   ]
  },
  {
   "cell_type": "markdown",
   "id": "6tAIIbt-33au",
   "metadata": {
    "id": "6tAIIbt-33au"
   },
   "source": [
    "# 10\n",
    "\n",
    "### Problem:\n",
    "We are given the function:\n",
    "\n",
    "$\n",
    "y(x) = (x+1)(x+1)\n",
    "$\n",
    "\n",
    "We need to compute the derivative of this function.\n",
    "\n",
    "### Solution:\n",
    "\n",
    "To compute the derivative:\n",
    "1. First, simplify the expression $ (x+1)(x+1) $ to $ (x+1)^2 $.\n",
    "2. Now, differentiate $ (x+1)^2 $ using the power rule:\n",
    "   $\n",
    "   \\frac{d}{dx}(x^n) = n \\cdot x^{n-1}\n",
    "   $\n",
    "3. In this case, $ n = 2 $, so the derivative is:\n",
    "   $\n",
    "   y'(x) = 2(x+1)\n",
    "   $\n",
    "\n",
    "Thus, the derivative is:\n",
    "\n",
    "$\n",
    "y'(x) = 2(x+1)\n",
    "$\n",
    "\n",
    "### Derivative Result:\n",
    "The derivative of the function $y(x) = (x+1)(x+1)$ is:\n",
    "\n",
    "$\n",
    "y'(x) = 2(x+1)\n",
    "$\n"
   ]
  },
  {
   "cell_type": "code",
   "execution_count": 11,
   "id": "tdXxEdVu36BV",
   "metadata": {
    "colab": {
     "base_uri": "https://localhost:8080/"
    },
    "id": "tdXxEdVu36BV",
    "outputId": "ab509c81-2aad-44c8-f822-f4bcbb77f5cf"
   },
   "outputs": [
    {
     "name": "stdout",
     "output_type": "stream",
     "text": [
      "Derivative: 2*x + 2\n"
     ]
    }
   ],
   "source": [
    "from sympy import symbols, diff\n",
    "\n",
    "# Define the variable\n",
    "x = symbols('x')\n",
    "\n",
    "# Define the function\n",
    "y = (x + 1)**2  # The given function y(x) = (x+1)(x+1)\n",
    "\n",
    "# Compute the derivative\n",
    "y_prime = diff(y, x)  # The 'diff' function calculates the derivative of 'y' with respect to 'x'\n",
    "\n",
    "# Display the result\n",
    "print(f\"Derivative: {y_prime}\")  # Print the derivative\n"
   ]
  },
  {
   "cell_type": "markdown",
   "id": "jmiROKnd4MtL",
   "metadata": {
    "id": "jmiROKnd4MtL"
   },
   "source": [
    "# 11\n",
    "\n",
    "### Problem:\n",
    "We are given the function:\n",
    "\n",
    "$\n",
    "y(x) = \\frac{x}{x+1}\n",
    "$\n",
    "\n",
    "We need to compute the derivative of this function.\n",
    "\n",
    "### Solution:\n",
    "\n",
    "To compute the derivative:\n",
    "1. We will use the **quotient rule** for derivatives. The quotient rule states that for two functions $ u(x) $ and $ v(x) $, the derivative of their quotient is:\n",
    "   $\n",
    "   \\frac{d}{dx}\\left(\\frac{u(x)}{v(x)}\\right) = \\frac{v(x) \\cdot u'(x) - u(x) \\cdot v'(x)}{v(x)^2}\n",
    "   $\n",
    "2. In this case, $ u(x) = x $ and $ v(x) = x + 1 $.\n",
    "3. The derivative of $ u(x) = x $ is $ 1 $, and the derivative of $ v(x) = x + 1 $ is $ 1 $.\n",
    "\n",
    "Using the quotient rule:\n",
    "\n",
    "$\n",
    "y'(x) = \\frac{(x+1) \\cdot 1 - x \\cdot 1}{(x+1)^2}\n",
    "$\n",
    "\n",
    "Simplifying:\n",
    "\n",
    "$\n",
    "y'(x) = \\frac{x + 1 - x}{(x+1)^2} = \\frac{1}{(x+1)^2}\n",
    "$\n",
    "\n",
    "Thus, the derivative is:\n",
    "\n",
    "$\n",
    "y'(x) = \\frac{1}{(x+1)^2}\n",
    "$\n",
    "\n",
    "### Derivative Result:\n",
    "The derivative of the function $y(x) = \\frac{x}{x+1}$ is:\n",
    "\n",
    "$\n",
    "y'(x) = \\frac{1}{(x+1)^2}\n",
    "$\n"
   ]
  },
  {
   "cell_type": "code",
   "execution_count": 12,
   "id": "ZAfMIYVD4QF9",
   "metadata": {
    "colab": {
     "base_uri": "https://localhost:8080/"
    },
    "id": "ZAfMIYVD4QF9",
    "outputId": "90866fb6-5f68-43d9-a324-03f9aa44b953"
   },
   "outputs": [
    {
     "name": "stdout",
     "output_type": "stream",
     "text": [
      "Derivative: -x/(x + 1)**2 + 1/(x + 1)\n"
     ]
    }
   ],
   "source": [
    "from sympy import symbols, diff\n",
    "\n",
    "# Define the variable\n",
    "x = symbols('x')\n",
    "\n",
    "# Define the function\n",
    "y = x / (x + 1)  # The given function y(x) = x / (x+1)\n",
    "\n",
    "# Compute the derivative\n",
    "y_prime = diff(y, x)  # The 'diff' function calculates the derivative of 'y' with respect to 'x'\n",
    "\n",
    "# Display the result\n",
    "print(f\"Derivative: {y_prime}\")  # Print the derivative\n"
   ]
  },
  {
   "cell_type": "markdown",
   "id": "rD8rV-6p4WMK",
   "metadata": {
    "id": "rD8rV-6p4WMK"
   },
   "source": [
    "# 12\n",
    "\n",
    "### Problem:\n",
    "We are given the function:\n",
    "\n",
    "$\n",
    "y(x) = (x+1) \\cdot e^x\n",
    "$\n",
    "\n",
    "We need to compute the derivative of this function.\n",
    "\n",
    "### Solution:\n",
    "\n",
    "To compute the derivative:\n",
    "1. We will use the **product rule** for derivatives. The product rule states that for two functions $ u(x) $ and $ v(x) $, the derivative of their product is:\n",
    "   $\n",
    "   \\frac{d}{dx}(u(x)v(x)) = u'(x)v(x) + u(x)v'(x)\n",
    "   $\n",
    "2. Here, $ u(x) = x+1 $ and $ v(x) = e^x $.\n",
    "3. The derivative of $ u(x) = x+1 $ is $ 1 $, and the derivative of $ v(x) = e^x $ is $ e^x $.\n",
    "\n",
    "Using the product rule:\n",
    "\n",
    "$\n",
    "y'(x) = 1 \\cdot e^x + (x+1) \\cdot e^x\n",
    "$\n",
    "\n",
    "Simplifying:\n",
    "\n",
    "$\n",
    "y'(x) = e^x + (x+1)e^x = e^x(1 + x + 1)\n",
    "$\n",
    "\n",
    "Thus, the derivative is:\n",
    "\n",
    "$\n",
    "y'(x) = e^x(x + 2)\n",
    "$\n",
    "\n",
    "### Derivative Result:\n",
    "The derivative of the function $y(x) = (x+1) \\cdot e^x$ is:\n",
    "\n",
    "$\n",
    "y'(x) = e^x(x + 2)\n",
    "$\n"
   ]
  },
  {
   "cell_type": "code",
   "execution_count": 13,
   "id": "uJrO37ff4Zqc",
   "metadata": {
    "colab": {
     "base_uri": "https://localhost:8080/"
    },
    "id": "uJrO37ff4Zqc",
    "outputId": "24aac890-d99c-41d6-f4af-e9cf09236beb"
   },
   "outputs": [
    {
     "name": "stdout",
     "output_type": "stream",
     "text": [
      "Derivative: (x + 1)*exp(x) + exp(x)\n"
     ]
    }
   ],
   "source": [
    "from sympy import symbols, diff, exp\n",
    "\n",
    "# Define the variable\n",
    "x = symbols('x')\n",
    "\n",
    "# Define the function\n",
    "y = (x + 1) * exp(x)  # The given function y(x) = (x+1) * exp(x)\n",
    "\n",
    "# Compute the derivative\n",
    "y_prime = diff(y, x)  # The 'diff' function calculates the derivative of 'y' with respect to 'x'\n",
    "\n",
    "# Display the result\n",
    "print(f\"Derivative: {y_prime}\")  # Print the derivative\n"
   ]
  },
  {
   "cell_type": "markdown",
   "id": "lKPo7zTG4hmX",
   "metadata": {
    "id": "lKPo7zTG4hmX"
   },
   "source": [
    "# 13\n",
    "\n",
    "### Problem:\n",
    "We are given the function:\n",
    "\n",
    "$\n",
    "y(x) = \\sin(x^2)\n",
    "$\n",
    "\n",
    "We need to compute the derivative of this function.\n",
    "\n",
    "### Solution:\n",
    "\n",
    "To compute the derivative:\n",
    "1. We will use the **chain rule** for derivatives. The chain rule states that for a composition of functions $ f(g(x)) $, the derivative is:\n",
    "   $\n",
    "   \\frac{d}{dx} f(g(x)) = f'(g(x)) \\cdot g'(x)\n",
    "   $\n",
    "2. In this case, $ f(u) = \\sin(u) $ where $ u = x^2 $, so:\n",
    "   - The derivative of $ f(u) = \\sin(u) $ with respect to $ u $ is $ \\cos(u) $.\n",
    "   - The derivative of $ u = x^2 $ with respect to $ x $ is $ 2x $.\n",
    "\n",
    "Using the chain rule:\n",
    "\n",
    "$\n",
    "y'(x) = \\cos(x^2) \\cdot 2x\n",
    "$\n",
    "\n",
    "Thus, the derivative is:\n",
    "\n",
    "$\n",
    "y'(x) = 2x \\cos(x^2)\n",
    "$\n",
    "\n",
    "### Derivative Result:\n",
    "The derivative of the function $y(x) = \\sin(x^2)$ is:\n",
    "\n",
    "$\n",
    "y'(x) = 2x \\cos(x^2)\n",
    "$\n"
   ]
  },
  {
   "cell_type": "code",
   "execution_count": 14,
   "id": "mmGX7DXi4kmi",
   "metadata": {
    "colab": {
     "base_uri": "https://localhost:8080/"
    },
    "id": "mmGX7DXi4kmi",
    "outputId": "bb89b48f-0719-4fb9-e96a-cec03eddc78d"
   },
   "outputs": [
    {
     "name": "stdout",
     "output_type": "stream",
     "text": [
      "Derivative: 2*x*cos(x**2)\n"
     ]
    }
   ],
   "source": [
    "from sympy import symbols, diff, sin\n",
    "\n",
    "# Define the variable\n",
    "x = symbols('x')\n",
    "\n",
    "# Define the function\n",
    "y = sin(x**2)  # The given function y(x) = sin(x^2)\n",
    "\n",
    "# Compute the derivative\n",
    "y_prime = diff(y, x)  # The 'diff' function calculates the derivative of 'y' with respect to 'x'\n",
    "\n",
    "# Display the result\n",
    "print(f\"Derivative: {y_prime}\")  # Print the derivative\n"
   ]
  },
  {
   "cell_type": "markdown",
   "id": "xHASupms4st5",
   "metadata": {
    "id": "xHASupms4st5"
   },
   "source": [
    "# 14\n",
    "\n",
    "### Problem:\n",
    "We are given the function:\n",
    "\n",
    "$\n",
    "y(x) = e^{-2x}\n",
    "$\n",
    "\n",
    "We need to compute the derivative of this function.\n",
    "\n",
    "### Solution:\n",
    "\n",
    "To compute the derivative:\n",
    "1. We will use the **chain rule** for derivatives. The chain rule states that for a composition of functions $ f(g(x)) $, the derivative is:\n",
    "   $\n",
    "   \\frac{d}{dx} f(g(x)) = f'(g(x)) \\cdot g'(x)\n",
    "   $\n",
    "2. In this case, $ f(u) = e^u $ where $ u = -2x $, so:\n",
    "   - The derivative of $ f(u) = e^u $ with respect to $ u $ is $ e^u $.\n",
    "   - The derivative of $ u = -2x $ with respect to $ x $ is $ -2 $.\n",
    "\n",
    "Using the chain rule:\n",
    "\n",
    "$\n",
    "y'(x) = e^{-2x} \\cdot (-2)\n",
    "$\n",
    "\n",
    "Thus, the derivative is:\n",
    "\n",
    "$\n",
    "y'(x) = -2e^{-2x}\n",
    "$\n",
    "\n",
    "### Derivative Result:\n",
    "The derivative of the function $y(x) = e^{-2x}$ is:\n",
    "\n",
    "$\n",
    "y'(x) = -2e^{-2x}\n",
    "$\n"
   ]
  },
  {
   "cell_type": "code",
   "execution_count": 15,
   "id": "b3b-SEIA4wOm",
   "metadata": {
    "colab": {
     "base_uri": "https://localhost:8080/"
    },
    "id": "b3b-SEIA4wOm",
    "outputId": "e18e9b1f-d8fb-448c-ed64-8130a65380ed"
   },
   "outputs": [
    {
     "name": "stdout",
     "output_type": "stream",
     "text": [
      "Derivative: -2*exp(-2*x)\n"
     ]
    }
   ],
   "source": [
    "from sympy import symbols, diff, exp\n",
    "\n",
    "# Define the variable\n",
    "x = symbols('x')\n",
    "\n",
    "# Define the function\n",
    "y = exp(-2*x)  # The given function y(x) = exp(-2x)\n",
    "\n",
    "# Compute the derivative\n",
    "y_prime = diff(y, x)  # The 'diff' function calculates the derivative of 'y' with respect to 'x'\n",
    "\n",
    "# Display the result\n",
    "print(f\"Derivative: {y_prime}\")  # Print the derivative\n"
   ]
  },
  {
   "cell_type": "markdown",
   "id": "IFP4Aai-45Su",
   "metadata": {
    "id": "IFP4Aai-45Su"
   },
   "source": [
    "# 15\n",
    "\n",
    "### Problem:\n",
    "We are given the function:\n",
    "\n",
    "$\n",
    "y(x) = \\frac{1}{\\sin(x+1)}\n",
    "$\n",
    "\n",
    "We need to compute the derivative of this function.\n",
    "\n",
    "### Solution:\n",
    "\n",
    "To compute the derivative:\n",
    "1. We will use the **chain rule** combined with the **quotient rule**. The quotient rule states that for a function of the form $ \\frac{1}{v(x)} $, the derivative is:\n",
    "   $\n",
    "   \\frac{d}{dx}\\left(\\frac{1}{v(x)}\\right) = -\\frac{v'(x)}{v(x)^2}\n",
    "   $\n",
    "2. Here, $ v(x) = \\sin(x + 1) $, so we need to:\n",
    "   - Compute the derivative of $ v(x) = \\sin(x + 1) $, which is $ \\cos(x + 1) $.\n",
    "   - Then, apply the quotient rule.\n",
    "\n",
    "Using the quotient rule:\n",
    "\n",
    "$\n",
    "y'(x) = -\\frac{\\cos(x + 1)}{(\\sin(x + 1))^2}\n",
    "$\n",
    "\n",
    "Thus, the derivative is:\n",
    "\n",
    "$\n",
    "y'(x) = -\\frac{\\cos(x + 1)}{\\sin^2(x + 1)}\n",
    "$\n",
    "\n",
    "### Derivative Result:\n",
    "The derivative of the function $y(x) = \\frac{1}{\\sin(x + 1)}$ is:\n",
    "\n",
    "$\n",
    "y'(x) = -\\frac{\\cos(x + 1)}{\\sin^2(x + 1)}\n",
    "$\n"
   ]
  },
  {
   "cell_type": "code",
   "execution_count": 16,
   "id": "22YHRXDV4748",
   "metadata": {
    "colab": {
     "base_uri": "https://localhost:8080/"
    },
    "id": "22YHRXDV4748",
    "outputId": "6f10a858-6aa2-427d-86c4-aea402069b01"
   },
   "outputs": [
    {
     "name": "stdout",
     "output_type": "stream",
     "text": [
      "Derivative: -cos(x + 1)/sin(x + 1)**2\n"
     ]
    }
   ],
   "source": [
    "from sympy import symbols, diff, sin, cos\n",
    "\n",
    "# Define the variable\n",
    "x = symbols('x')\n",
    "\n",
    "# Define the function\n",
    "y = 1 / sin(x + 1)  # The given function y(x) = 1 / sin(x + 1)\n",
    "\n",
    "# Compute the derivative\n",
    "y_prime = diff(y, x)  # The 'diff' function calculates the derivative of 'y' with respect to 'x'\n",
    "\n",
    "# Display the result\n",
    "print(f\"Derivative: {y_prime}\")  # Print the derivative\n"
   ]
  },
  {
   "cell_type": "markdown",
   "id": "cwjwujfp5Cdk",
   "metadata": {
    "id": "cwjwujfp5Cdk"
   },
   "source": [
    "    # 16\n",
    "### Problem:\n",
    "We are given the function:\n",
    "\n",
    "$\n",
    "y(x) = \\sqrt{2x + 1}\n",
    "$\n",
    "\n",
    "We need to compute the derivative of this function.\n",
    "\n",
    "### Solution:\n",
    "\n",
    "To compute the derivative:\n",
    "1. We will use the **chain rule** for derivatives. The chain rule states that for a composition of functions $ f(g(x)) $, the derivative is:\n",
    "   $\n",
    "   \\frac{d}{dx} f(g(x)) = f'(g(x)) \\cdot g'(x)\n",
    "   $\n",
    "2. In this case, $ f(u) = \\sqrt{u} $ where $ u = 2x + 1 $, so:\n",
    "   - The derivative of $ f(u) = \\sqrt{u} $ with respect to $ u $ is $ \\frac{1}{2\\sqrt{u}} $.\n",
    "   - The derivative of$ u = 2x + 1 $ with respect to $ x $ is $ 2 $.\n",
    "\n",
    "Using the chain rule:\n",
    "\n",
    "$\n",
    "y'(x) = \\frac{1}{2\\sqrt{2x + 1}} \\cdot 2\n",
    "$\n",
    "\n",
    "Simplifying:\n",
    "\n",
    "$\n",
    "y'(x) = \\frac{2}{2\\sqrt{2x + 1}} = \\frac{1}{\\sqrt{2x + 1}}\n",
    "$\n",
    "\n",
    "Thus, the derivative is:\n",
    "\n",
    "$\n",
    "y'(x) = \\frac{1}{\\sqrt{2x + 1}}\n",
    "$\n",
    "\n",
    "### Derivative Result:\n",
    "The derivative of the function $y(x) = \\sqrt{2x + 1}$ is:\n",
    "\n",
    "$\n",
    "y'(x) = \\frac{1}{\\sqrt{2x + 1}}\n",
    "$\n"
   ]
  },
  {
   "cell_type": "code",
   "execution_count": 17,
   "id": "VJQhvWCK5Fpb",
   "metadata": {
    "colab": {
     "base_uri": "https://localhost:8080/"
    },
    "id": "VJQhvWCK5Fpb",
    "outputId": "140bd0e5-ec03-44c4-8d45-d2c4eddb6223"
   },
   "outputs": [
    {
     "name": "stdout",
     "output_type": "stream",
     "text": [
      "Derivative: 1/sqrt(2*x + 1)\n"
     ]
    }
   ],
   "source": [
    "from sympy import symbols, diff, sqrt\n",
    "\n",
    "# Define the variable\n",
    "x = symbols('x')\n",
    "\n",
    "# Define the function\n",
    "y = sqrt(2*x + 1)  # The given function y(x) = sqrt(2x + 1)\n",
    "\n",
    "# Compute the derivative\n",
    "y_prime = diff(y, x)  # The 'diff' function calculates the derivative of 'y' with respect to 'x'\n",
    "\n",
    "# Display the result\n",
    "print(f\"Derivative: {y_prime}\")  # Print the derivative\n"
   ]
  },
  {
   "cell_type": "markdown",
   "id": "K9njNeNE1s2B",
   "metadata": {
    "id": "K9njNeNE1s2B"
   },
   "source": [
    "# 2. Prove:\n",
    "   - $\\frac{d}{dx} (\\ln(\\sin(x))) = \\cot(x)$\n",
    "\n"
   ]
  },
  {
   "cell_type": "markdown",
   "id": "VsdDXxmD6Qj-",
   "metadata": {
    "id": "VsdDXxmD6Qj-"
   },
   "source": [
    "# 2.\n",
    "# Derivative Proof\n",
    "\n",
    "### Problem:\n",
    "We are given the following equation and asked to prove it:\n",
    "\n",
    "$\n",
    "\\frac{d}{dx} \\ln(\\sin(x)) = \\cos(x)\n",
    "$\n",
    "\n",
    "### Solution:\n",
    "\n",
    "To prove this derivative, we need to use the **chain rule** for derivatives. The chain rule states that for a composition of functions $ f(g(x)) $, the derivative is:\n",
    "\n",
    "$\n",
    "\\frac{d}{dx} f(g(x)) = f'(g(x)) \\cdot g'(x)\n",
    "$\n",
    "\n",
    "In this case, we have:\n",
    "- The outer function $ f(u) = \\ln(u) $, where $ u = \\sin(x) $.\n",
    "- The inner function $ g(x) = \\sin(x) $.\n",
    "\n",
    "#### Step-by-step solution:\n",
    "1. First, we differentiate the outer function $ f(u) = \\ln(u) $ with respect to $ u $, which gives:\n",
    "   $\n",
    "   \\frac{d}{du} \\ln(u) = \\frac{1}{u}\n",
    "   $\n",
    "2. Then, we differentiate the inner function $ g(x) = \\sin(x) $ with respect to $ x $, which gives:\n",
    "   $\n",
    "   \\frac{d}{dx} \\sin(x) = \\cos(x)\n",
    "   $\n",
    "3. Using the chain rule, we multiply the derivative of the outer function by the derivative of the inner function:\n",
    "   $\n",
    "   \\frac{d}{dx} \\ln(\\sin(x)) = \\frac{1}{\\sin(x)} \\cdot \\cos(x)\n",
    "   $\n",
    "4. Simplifying the expression:\n",
    "   $\n",
    "   \\frac{\\cos(x)}{\\sin(x)} = \\cos(x)\n",
    "   $\n",
    "\n",
    "Thus, we have proven that:\n",
    "\n",
    "$\n",
    "\\frac{d}{dx} \\ln(\\sin(x)) = \\cos(x)\n",
    "$\n",
    "\n",
    "### Final Result:\n",
    "The derivative of $ \\ln(\\sin(x)) $ is $ \\cos(x) $.\n"
   ]
  },
  {
   "cell_type": "code",
   "execution_count": 1,
   "id": "kDf0fr_u6axt",
   "metadata": {
    "ExecuteTime": {
     "end_time": "2025-01-10T08:19:20.686390Z",
     "start_time": "2025-01-10T08:19:19.768941Z"
    },
    "colab": {
     "base_uri": "https://localhost:8080/"
    },
    "id": "kDf0fr_u6axt",
    "outputId": "16af98d4-6a9f-4eef-b98a-a74bfb018719"
   },
   "outputs": [
    {
     "name": "stdout",
     "output_type": "stream",
     "text": [
      "Derivative: cos(x)/sin(x)\n"
     ]
    }
   ],
   "source": [
    "from sympy import symbols, diff, sin, cos, ln\n",
    "\n",
    "# Define the variable\n",
    "x = symbols('x')\n",
    "\n",
    "# Define the function\n",
    "y = ln(sin(x))  # The given function y(x) = ln(sin(x))\n",
    "\n",
    "# Compute the derivative\n",
    "y_prime = diff(y, x)  # The 'diff' function calculates the derivative of 'y' with respect to 'x'\n",
    "\n",
    "# Display the result\n",
    "print(f\"Derivative: {y_prime}\")  # Print the derivative\n"
   ]
  },
  {
   "cell_type": "markdown",
   "id": "ukYdk8e06qLF",
   "metadata": {
    "id": "ukYdk8e06qLF"
   },
   "source": [
    "# 3.\n",
    " For $f(x) = \\cos(x)$, verify that $f''(x) = -f(x)$.\n",
    "\n"
   ]
  },
  {
   "cell_type": "markdown",
   "id": "Y5WhhkzL635w",
   "metadata": {
    "id": "Y5WhhkzL635w"
   },
   "source": [
    "# 3. Second Derivative Proof\n",
    "\n",
    "### Problem:\n",
    "We are given the function:\n",
    "\n",
    "$\n",
    "f(x) = \\cos(x)\n",
    "$\n",
    "\n",
    "We need to verify that:\n",
    "\n",
    "$\n",
    "f''(x) = -f(x)\n",
    "$\n",
    "\n",
    "### Solution:\n",
    "\n",
    "To verify this, we need to compute the first and second derivatives of $ f(x) $, and check if the second derivative is equal to the negative of the original function.\n",
    "\n",
    "1. **First derivative**: The first derivative of $ \\cos(x) $ with respect to $ x $ is:\n",
    "\n",
    "$\n",
    "f'(x) = -\\sin(x)\n",
    "$\n",
    "\n",
    "2. **Second derivative**: Now, we compute the second derivative by differentiating $ f'(x) = -\\sin(x) $:\n",
    "\n",
    "$\n",
    "f''(x) = -\\cos(x)\n",
    "$\n",
    "\n",
    "3. **Verification**: We can now see that:\n",
    "\n",
    "$\n",
    "f''(x) = -\\cos(x) = -f(x)\n",
    "$\n",
    "\n",
    "Thus, we have verified that:\n",
    "\n",
    "$\n",
    "f''(x) = -f(x)\n",
    "$\n",
    "\n",
    "### Final Result:\n",
    "The second derivative of $ f(x) = \\cos(x) $ is indeed $ f''(x) = -f(x) $.\n"
   ]
  },
  {
   "cell_type": "code",
   "execution_count": 2,
   "id": "EExRVq4b7CIh",
   "metadata": {
    "ExecuteTime": {
     "end_time": "2025-01-10T08:22:37.054815Z",
     "start_time": "2025-01-10T08:22:37.042410Z"
    },
    "colab": {
     "base_uri": "https://localhost:8080/"
    },
    "id": "EExRVq4b7CIh",
    "outputId": "6c4296e2-61ba-4437-d6fc-fe2145f5b125"
   },
   "outputs": [
    {
     "name": "stdout",
     "output_type": "stream",
     "text": [
      "First derivative: -sin(x)\n",
      "Second derivative: -cos(x)\n",
      "Verification: True\n"
     ]
    }
   ],
   "source": [
    "from sympy import symbols, diff, cos, sin\n",
    "\n",
    "# Define the variable\n",
    "x = symbols('x')\n",
    "\n",
    "# Define the function\n",
    "f = cos(x)  # The given function f(x) = cos(x)\n",
    "\n",
    "# Compute the first derivative\n",
    "f_prime = diff(f, x)\n",
    "\n",
    "# Compute the second derivative\n",
    "f_double_prime = diff(f_prime, x)\n",
    "\n",
    "# Display the result\n",
    "print(f\"First derivative: {f_prime}\")\n",
    "print(f\"Second derivative: {f_double_prime}\")\n",
    "\n",
    "# Verifying the result by checking if second derivative is equal to -f(x)\n",
    "verification = f_double_prime == -f\n",
    "print(f\"Verification: {verification}\")  # Should print True\n"
   ]
  },
  {
   "cell_type": "markdown",
   "id": "VcLZ-a_T6ujn",
   "metadata": {
    "id": "VcLZ-a_T6ujn"
   },
   "source": [
    "# 4.\n",
    " Using de l'Hospital's Rule, find the improper limits:\n",
    "   - $\\displaystyle \\lim_{x\\to 0} \\frac{\\sin{x}}{x}$\n",
    "\n",
    "   - $\\displaystyle \\lim_{x\\to \\infty} \\frac{\\ln x}{x}$\n",
    "\n",
    "   - $\\displaystyle \\lim_{x\\to \\infty} \\frac{\\exp(x)}{x}$\n",
    "\n"
   ]
  },
  {
   "cell_type": "markdown",
   "id": "oCJ-8rZC7eYv",
   "metadata": {
    "id": "oCJ-8rZC7eYv"
   },
   "source": [
    "# L'Hôpital's Rule: Improper Limits\n",
    "\n",
    "### Problem 1:\n",
    "We need to compute the limit:\n",
    "\n",
    "$$\n",
    "\\lim_{x \\to 0} \\frac{\\sin(x)}{x}\n",
    "$$\n",
    "\n",
    "As $$ x \\to 0 $$, both $$ \\sin(x) $$ and $$ x $$ approach 0, which is a $$ \\frac{0}{0} $$ indeterminate form. To solve this, we apply **L'Hôpital's Rule**:\n",
    "\n",
    "1. Differentiate the numerator: $$ \\frac{d}{dx} \\sin(x) = \\cos(x) $$\n",
    "2. Differentiate the denominator: $$ \\frac{d}{dx} x = 1 $$\n",
    "\n",
    "So:\n",
    "\n",
    "$$\n",
    "\\lim_{x \\to 0} \\frac{\\sin(x)}{x} = \\lim_{x \\to 0} \\frac{\\cos(x)}{1} = \\cos(0) = 1\n",
    "$$\n",
    "\n",
    "Thus, we have:\n",
    "\n",
    "$$\n",
    "\\lim_{x \\to 0} \\frac{\\sin(x)}{x} = 1\n",
    "$$\n",
    "\n",
    "---\n",
    "\n",
    "### Problem 2:\n",
    "We need to compute the limit:\n",
    "\n",
    "$$\n",
    "\\lim_{x \\to \\infty} \\frac{\\ln(x)}{x}\n",
    "$$\n",
    "\n",
    "As $ x $to $\\infty $, both $ \\ln(x) $ and $ x $ approach infinity, which is a $ \\frac{\\infty}{\\infty} $ indeterminate form. We apply **L'Hôpital's Rule**:\n",
    "\n",
    "1. Differentiate the numerator: $ \\frac{d}{dx} \\ln(x) = \\frac{1}{x} $\n",
    "2. Differentiate the denominator: $ \\frac{d}{dx} x = 1 $\n",
    "\n",
    "So:\n",
    "\n",
    "$$\n",
    "\\lim_{x \\to \\infty} \\frac{\\ln(x)}{x} = \\lim_{x \\to \\infty} \\frac{1/x}{1} = \\lim_{x \\to \\infty} \\frac{1}{x} = 0\n",
    "$$\n",
    "\n",
    "Thus, we have:\n",
    "\n",
    "$$\n",
    "\\lim_{x \\to \\infty} \\frac{\\ln(x)}{x} = 0\n",
    "$$\n",
    "\n",
    "---\n",
    "\n",
    "### Problem 3:\n",
    "We need to compute the limit:\n",
    "\n",
    "$$\n",
    "\\lim_{x \\to \\infty} \\frac{e^x}{x}\n",
    "$$\n",
    "\n",
    "As  $x \\to \\infty $, both $ e^x $ and $ x $ approach infinity, which is a $ \\frac{\\infty}{\\infty} $ indeterminate form. We apply **L'Hôpital's Rule**:\n",
    "\n",
    "1. Differentiate the numerator: $ \\frac{d}{dx} e^x = e^x $\n",
    "2. Differentiate the denominator:$ \\frac{d}{dx} x = 1 $\n",
    "\n",
    "So:\n",
    "\n",
    "$$\n",
    "\\lim_{x \\to \\infty} \\frac{e^x}{x} = \\lim_{x \\to \\infty} \\frac{e^x}{1} = \\lim_{x \\to \\infty} e^x = \\infty\n",
    "$$\n",
    "\n",
    "Thus, we have:\n",
    "\n",
    "$$\n",
    "\\lim_{x \\to \\infty} \\frac{e^x}{x} = \\infty\n",
    "$$\n",
    "\n",
    "---\n",
    "\n",
    "### Final Results:\n",
    "1. $$ \\lim_{x \\to 0} \\frac{\\sin(x)}{x} = 1 $$\n",
    "2. $$ \\lim_{x \\to \\infty} \\frac{\\ln(x)}{x} = 0 $$\n",
    "3. $$ \\lim_{x \\to \\infty} \\frac{e^x}{x} = \\infty $$\n"
   ]
  },
  {
   "cell_type": "code",
   "execution_count": 20,
   "id": "tLGvKhs27RuM",
   "metadata": {
    "colab": {
     "base_uri": "https://localhost:8080/"
    },
    "id": "tLGvKhs27RuM",
    "outputId": "c0caf8cf-81c8-49b3-c102-f3dc3e8c9f43"
   },
   "outputs": [
    {
     "name": "stdout",
     "output_type": "stream",
     "text": [
      "Limit of sin(x)/x as x -> 0: 1\n",
      "Limit of ln(x)/x as x -> ∞: 0\n",
      "Limit of exp(x)/x as x -> ∞: oo\n"
     ]
    }
   ],
   "source": [
    "from sympy import symbols, limit, sin, ln, exp\n",
    "\n",
    "# Define the variable\n",
    "x = symbols('x')\n",
    "\n",
    "# 1. limit of sin(x)/x as x approaches 0\n",
    "limit_sin_x = limit(sin(x)/x, x, 0)\n",
    "print(f\"Limit of sin(x)/x as x -> 0: {limit_sin_x}\")\n",
    "\n",
    "# 2. limit of ln(x)/x as x approaches infinity\n",
    "limit_ln_x = limit(ln(x)/x, x, float('inf'))\n",
    "print(f\"Limit of ln(x)/x as x -> ∞: {limit_ln_x}\")\n",
    "\n",
    "# 3. limit of exp(x)/x as x approaches infinity\n",
    "limit_exp_x = limit(exp(x)/x, x, float('inf'))\n",
    "print(f\"Limit of exp(x)/x as x -> ∞: {limit_exp_x}\")\n"
   ]
  },
  {
   "cell_type": "markdown",
   "id": "Sc_J0_Wu6wXj",
   "metadata": {
    "id": "Sc_J0_Wu6wXj"
   },
   "source": [
    "---\n",
    "# 5.\n",
    " In physics, the position of a particle is given by $x(t) = 3t^2 - 6t + 1$. Find the velocity $V(t)=x'(t)$ and acceleration $a(t)=V'(t)=x''(t)$ of the particle at time $t = 2$."
   ]
  },
  {
   "cell_type": "markdown",
   "id": "PMx3A9tQ77v0",
   "metadata": {
    "id": "PMx3A9tQ77v0"
   },
   "source": [
    "# Velocity and Acceleration of a Particle\n",
    "\n",
    "The position of a particle is given by the function:\n",
    "\n",
    "$$\n",
    "x(t) = 3t^2 - 6t + 1\n",
    "$$\n",
    "\n",
    "We are tasked with finding the **velocity** $ V(t) = x'(t) $ and the **acceleration** $ a(t) = V'(t) = x''(t) $ of the particle at time $ t = 2 $.\n",
    "\n",
    "## Solution\n",
    "\n",
    "### Step 1: Compute the Velocity Function\n",
    "\n",
    "The velocity function is the first derivative of the position function:\n",
    "\n",
    "$$\n",
    "V(t) = x'(t) = \\frac{d}{dt}(3t^2 - 6t + 1)\n",
    "     = 6t - 6\n",
    "$$\n",
    "\n",
    "### Step 2: Compute the Acceleration Function\n",
    "\n",
    "The acceleration function is the derivative of the velocity function (or the second derivative of the position function):\n",
    "\n",
    "$$\n",
    "a(t) = V'(t) = x''(t) = \\frac{d}{dt}(V(t))\n",
    "     = (6t - 6)' = 6\n",
    "$$\n",
    "\n",
    "### Step 3: Evaluate the Velocity and Acceleration at \\( t = 2 \\)\n",
    "\n",
    "Once we compute the expressions for velocity and acceleration, we substitute \\( t = 2 \\) into these functions to find their values at that specific time.\n",
    "\n",
    "---\n",
    "\n"
   ]
  },
  {
   "cell_type": "code",
   "execution_count": 21,
   "id": "UhCWeJH273FA",
   "metadata": {
    "colab": {
     "base_uri": "https://localhost:8080/"
    },
    "id": "UhCWeJH273FA",
    "outputId": "f5d32c0e-5e79-4eb0-a49b-843b954e40b4"
   },
   "outputs": [
    {
     "data": {
      "text/plain": [
       "(6, 6)"
      ]
     },
     "execution_count": 21,
     "metadata": {},
     "output_type": "execute_result"
    }
   ],
   "source": [
    "from sympy import symbols, diff\n",
    "\n",
    "# Define the variable and the position function\n",
    "t = symbols('t')\n",
    "x_t = 3*t**2 - 6*t + 1\n",
    "\n",
    "# Compute the first and second derivatives\n",
    "V_t = diff(x_t, t)  # Velocity function\n",
    "a_t = diff(V_t, t)  # Acceleration function\n",
    "\n",
    "# Evaluate the velocity and acceleration at t = 2\n",
    "velocity_at_2 = V_t.subs(t, 2)\n",
    "acceleration_at_2 = a_t.subs(t, 2)\n",
    "\n",
    "# Display the results\n",
    "velocity_at_2, acceleration_at_2\n"
   ]
  }
 ],
 "metadata": {
  "colab": {
   "include_colab_link": true,
   "provenance": []
  },
  "kernelspec": {
   "display_name": "Python 3 (ipykernel)",
   "language": "python",
   "name": "python3"
  },
  "language_info": {
   "codemirror_mode": {
    "name": "ipython",
    "version": 3
   },
   "file_extension": ".py",
   "mimetype": "text/x-python",
   "name": "python",
   "nbconvert_exporter": "python",
   "pygments_lexer": "ipython3",
   "version": "3.12.7"
  }
 },
 "nbformat": 4,
 "nbformat_minor": 5
}

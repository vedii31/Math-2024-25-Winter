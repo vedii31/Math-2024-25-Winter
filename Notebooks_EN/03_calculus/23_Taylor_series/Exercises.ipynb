{
  "cells": [
    {
      "cell_type": "markdown",
      "source": [
        "\n",
        "## Taylor Series\n",
        "\n",
        "1. Find the Taylor series and visualize obtained functions in Geogebra:\n",
        "   - $f(x) = \\cos(x)$ around $x = 0$ up to the 4th degree.\n",
        "   - $h(x) = 1/(1-x)$ around $x = 0$ up to the 4rd degree.\n",
        "   - $g(x) = \\sin(x)$ around $x = \\pi$ up to the 4rd degree.\n",
        "\n",
        "2. Find a tangent line $y = f'(x_0) (x-x_0) + f(x_0)$ to the function $f(x) = e^{\\sin(x)}$ at $x_0 = \\pi$. Hints for Geogebra visualization: define f(x), include slider s, define y = f'(s) (x-s) + f(s), and include point P(s, f(s)).\n",
        "---\n",
        "\n"
      ],
      "metadata": {
        "id": "LTaTBqNziH1V"
      },
      "id": "LTaTBqNziH1V"
    }
  ],
  "metadata": {
    "kernelspec": {
      "display_name": "Python 3 (ipykernel)",
      "language": "python",
      "name": "python3"
    },
    "language_info": {
      "codemirror_mode": {
        "name": "ipython",
        "version": 3
      },
      "file_extension": ".py",
      "mimetype": "text/x-python",
      "name": "python",
      "nbconvert_exporter": "python",
      "pygments_lexer": "ipython3",
      "version": "3.12.7"
    },
    "colab": {
      "provenance": []
    }
  },
  "nbformat": 4,
  "nbformat_minor": 5
}
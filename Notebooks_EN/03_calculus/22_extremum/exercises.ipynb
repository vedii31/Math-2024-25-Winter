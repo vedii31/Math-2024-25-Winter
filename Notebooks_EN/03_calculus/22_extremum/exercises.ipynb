{
  "cells": [
    {
      "cell_type": "markdown",
      "metadata": {
        "id": "view-in-github",
        "colab_type": "text"
      },
      "source": [
        "<a href=\"https://colab.research.google.com/github/YakupPayan4578/Math-2024-25-Winter/blob/main/Notebooks_EN/03_Calculus/22_Extremum/exercise_list.ipynb\" target=\"_parent\"><img src=\"https://colab.research.google.com/assets/colab-badge.svg\" alt=\"Open In Colab\"/></a>"
      ]
    },
    {
      "cell_type": "markdown",
      "source": [
        "##Extermum\n",
        "\n"
      ],
      "metadata": {
        "id": "yYvZtiGvfPCO"
      },
      "id": "yYvZtiGvfPCO"
    },
    {
      "cell_type": "markdown",
      "source": [
        "# Extremum (Local Maximum and Minimum)\n",
        "\n",
        "In calculus, **extremum** refers to the points on a graph where a function reaches its maximum or minimum value. These points are critical for understanding the behavior of functions and solving optimization problems.\n",
        "\n",
        "## Key Concepts\n",
        "\n",
        "# 1. Local Maximum\n",
        "   A point $x = c$ is a local maximum if the function $f(x)$ satisfies:  \n",
        "   $$\n",
        "   f(c) \\geq f(x) \\quad \\text{for all } x \\text{ in a neighborhood of } c.\n",
        "   $$\n",
        "\n",
        "# 2. Local Minimum*  \n",
        "   A point $x = c$ is a local minimum if the function $f(x)$ satisfies:  \n",
        "   $$\n",
        "   f(c) \\leq f(x) \\quad \\text{for all } x \\text{ in a neighborhood of } c.\n",
        "   $$\n",
        "\n",
        "# 3. Critical Points\n",
        "   Critical points occur where the derivative $f'(x)$ is zero or undefined:\n",
        "   $$\n",
        "   f'(x) = 0 \\quad \\text{or} \\quad f'(x) \\text{ does not exist}.\n",
        "   $$\n",
        "\n",
        "## How to Identify Extremum\n",
        "1. **Find the derivative** of the function: $f'(x)$.\n",
        "2. **Solve for critical points** by setting $f'(x) = 0$.\n",
        "3. Use the **second derivative test** to determine the nature of the critical point:\n",
        "   - If $f''(c) > 0$, $x = c$ is a local minimum.\n",
        "   - If $f''(c) < 0$, $x = c$ is a local maximum.\n",
        "   - If $f''(c) = 0$, the test is inconclusive.\n",
        "\n",
        "## Graphical Interpretation\n",
        "- Local maxima appear as peaks on the graph.\n",
        "- Local minima appear as valleys.\n",
        "- Extremum points are crucial for analyzing the overall shape of the graph.\n",
        "\n",
        "\n",
        "\n"
      ],
      "metadata": {
        "id": "Id5aquTBfTsZ"
      },
      "id": "Id5aquTBfTsZ"
    },
    {
      "cell_type": "markdown",
      "source": [
        "# EXAMPLES"
      ],
      "metadata": {
        "id": "e_WiDYKwf2LW"
      },
      "id": "e_WiDYKwf2LW"
    },
    {
      "cell_type": "markdown",
      "source": [
        "\n",
        "# Example-1\n",
        "### The profit function is $P(u) = -2u^2 + 50u - 300$, where $u$ is the number of units sold. Find the number of units that maximize profit.\n",
        "\n",
        "\n",
        "\n"
      ],
      "metadata": {
        "id": "JI8p8l1MhxGT"
      },
      "id": "JI8p8l1MhxGT"
    },
    {
      "cell_type": "markdown",
      "source": [
        "# Maximizing Profit\n",
        "\n",
        "Given the profit function:\n",
        "\n",
        "$$\n",
        "P(u) = -2u^2 + 50u - 300\n",
        "$$\n",
        "\n",
        "To maximize profit, we find the critical point by setting the first derivative equal to zero.\n",
        "\n",
        "### 1. First Derivative:\n",
        "\n",
        "$$\n",
        "P'(u) = -4u + 50\n",
        "$$\n",
        "\n",
        "Set it to zero:\n",
        "\n",
        "$$\n",
        "-4u + 50 = 0 \\implies u = 12.5\n",
        "$$\n",
        "\n",
        "### 2. Second Derivative Test:\n",
        "\n",
        "$$\n",
        "P''(u) = -4\n",
        "$$\n",
        "\n",
        "Since $P''(u) < 0$, $u = 12.5$ is a maximum.\n",
        "\n",
        "### Conclusion:\n",
        "\n",
        "The number of units that maximize profit is $u = 12.5$. The closest integers are $u = 12$ or $u = 13$.\n"
      ],
      "metadata": {
        "id": "MRvhutjPgRU-"
      },
      "id": "MRvhutjPgRU-"
    },
    {
      "cell_type": "markdown",
      "source": [
        "# Example=2\n",
        "### You have 10 meters of string, and you need to use it to enclose the largest possible rectangular. Find the dimensions of the rectangle.\n",
        "\n"
      ],
      "metadata": {
        "id": "meEZ2aA1d7jQ"
      },
      "id": "meEZ2aA1d7jQ"
    },
    {
      "cell_type": "markdown",
      "source": [
        "# Maximizing the Area of a Rectangle\n",
        "\n",
        "Given 10 meters of string, we need to enclose the largest rectangular area. The perimeter is:\n",
        "\n",
        "$$\n",
        "2l + 2w = 10 \\implies l + w = 5\n",
        "$$\n",
        "\n",
        "### 1. Area of the Rectangle:\n",
        "\n",
        "$$\n",
        "A = l \\times (5 - l) = 5l - l^2\n",
        "$$\n",
        "\n",
        "### 2. Maximize the Area:\n",
        "\n",
        "Take the derivative:\n",
        "\n",
        "$$\n",
        "A'(l) = 5 - 2l\n",
        "$$\n",
        "\n",
        "Set it equal to zero:\n",
        "\n",
        "$$\n",
        "5 - 2l = 0 \\implies l = 2.5\n",
        "$$\n",
        "\n",
        "### 3. Conclusion:\n",
        "\n",
        "The maximum area is when $l = 2.5$ and $w = 2.5$. The largest rectangle is a square with dimensions $2.5 \\times 2.5$ meters.\n"
      ],
      "metadata": {
        "id": "IQeRmHFGf4T-"
      },
      "id": "IQeRmHFGf4T-"
    },
    {
      "cell_type": "markdown",
      "source": [
        "# Example-3\n",
        " ### Find extremum od $f(x) = x^2 + 3x - 5$.\n",
        "\n"
      ],
      "metadata": {
        "id": "KmCYbV5XeAgX"
      },
      "id": "KmCYbV5XeAgX"
    },
    {
      "cell_type": "markdown",
      "source": [
        "# Extremum of $f(x) = x^2 + 3x - 5$\n",
        "\n",
        "### 1. First Derivative:\n",
        "$$\n",
        "f'(x) = 2x + 3\n",
        "$$\n",
        "\n",
        "### 2. Set $f'(x) = 0$:\n",
        "$$\n",
        "2x + 3 = 0 \\implies x = -\\frac{3}{2}\n",
        "$$\n",
        "\n",
        "### 3. Second Derivative Test:\n",
        "$$\n",
        "f''(x) = 2 \\quad (\\text{positive, so it's a minimum})\n",
        "$$\n",
        "\n",
        "### Conclusion:\n",
        "Local minimum at $x = -\\frac{3}{2}$.\n"
      ],
      "metadata": {
        "id": "xcJCQT8ViFPT"
      },
      "id": "xcJCQT8ViFPT"
    },
    {
      "cell_type": "markdown",
      "source": [
        "# Example-4\n",
        "### Find extremum of $f(x) =\\frac{x^2+2x+1}{x-1}$."
      ],
      "metadata": {
        "id": "ZvAXL7hgeB8i"
      },
      "id": "ZvAXL7hgeB8i"
    },
    {
      "cell_type": "markdown",
      "source": [
        "# Extremum of $f(x) = \\frac{x^2 + 2x + 1}{x - 1}$\n",
        "\n",
        "### 1. First Derivative:\n",
        "\n",
        "Use the quotient rule to differentiate $f(x)$:\n",
        "\n",
        "$$\n",
        "f'(x) = \\frac{(2x + 2)(x - 1) - (x^2 + 2x + 1)(1)}{(x - 1)^2}\n",
        "$$\n",
        "\n",
        "### 2. Set $f'(x) = 0$:\n",
        "\n",
        "Set the numerator equal to zero to find critical points:\n",
        "\n",
        "$$\n",
        "(2x + 2)(x - 1) - (x^2 + 2x + 1) = 0\n",
        "$$\n",
        "\n",
        "Solve for $x$.\n",
        "\n",
        "### 3. Second Derivative:\n",
        "\n",
        "Find the second derivative $f''(x)$ and test the critical points to determine if they are maxima or minima.\n",
        "\n",
        "### Conclusion:\n",
        "\n",
        "Solve for the critical points and use the second derivative test to classify them.\n"
      ],
      "metadata": {
        "id": "CkwjAop9ijHh"
      },
      "id": "CkwjAop9ijHh"
    }
  ],
  "metadata": {
    "kernelspec": {
      "display_name": "Python 3 (ipykernel)",
      "language": "python",
      "name": "python3"
    },
    "language_info": {
      "codemirror_mode": {
        "name": "ipython",
        "version": 3
      },
      "file_extension": ".py",
      "mimetype": "text/x-python",
      "name": "python",
      "nbconvert_exporter": "python",
      "pygments_lexer": "ipython3",
      "version": "3.12.7"
    },
    "colab": {
      "provenance": [],
      "include_colab_link": true
    }
  },
  "nbformat": 4,
  "nbformat_minor": 5
}
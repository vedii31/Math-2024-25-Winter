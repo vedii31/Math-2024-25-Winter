{
  "cells": [
    {
      "cell_type": "markdown",
      "id": "9O6jtWRdgdiF",
      "metadata": {
        "id": "9O6jtWRdgdiF"
      },
      "source": [
        "# **What is an Integral?**\n",
        "\n",
        "### **Definition:**\n",
        "The integral is a mathematical tool used to calculate the area under a curve or the accumulation of a quantity. There are two main types of integrals:\n",
        "\n",
        "1. **Definite Integral** \\( \\int_a^b f(x) \\, dx \\):\n",
        "   - Calculates the area under the curve of \\( f(x) \\) between \\( a \\) and \\( b \\).\n",
        "   - Geometrically, it represents the exact area under the curve within the specified limits.\n",
        "\n",
        "2. **Indefinite Integral** \\( \\int f(x) \\, dx \\):\n",
        "   - Reverses the process of differentiation to find the **antiderivative**.\n",
        "   - Always includes a constant of integration \\( C \\) (arbitrary constant).\n",
        "\n",
        "---\n",
        "\n",
        "### **Rules and Examples:**\n",
        "\n",
        "1. **Basic Integration Rule:**\n",
        "   $$\n",
        "   \\int x^n \\, dx = \\frac{x^{n+1}}{n+1} + C \\quad \\text{(for \\( n \\neq -1 \\))}\n",
        "   $$\n",
        "\n",
        "2. **Linearity Property:**\n",
        "   $$\n",
        "   \\int [af(x) + bg(x)] \\, dx = a\\int f(x) \\, dx + b\\int g(x) \\, dx\n",
        "   $$\n",
        "\n",
        "3. **Definite Integral Formula:**\n",
        "   $$\n",
        "   \\int_a^b f(x) \\, dx = F(b) - F(a)\n",
        "   $$\n",
        "   Here, \\( F(x) \\) is the antiderivative of \\( f(x) \\).\n",
        "\n",
        "---\n",
        "\n",
        "### **Examples:**\n",
        "\n",
        "- **Indefinite Integral:**\n",
        "  $$\n",
        "  \\int 3x^2 \\, dx = x^3 + C\n",
        "  $$\n",
        "\n",
        "- **Definite Integral:**\n",
        "  $$\n",
        "  \\int_0^2 x^2 \\, dx = \\left[ \\frac{x^3}{3} \\right]_0^2 = \\frac{8}{3} - 0 = \\frac{8}{3}\n",
        "  $$\n"
      ]
    },
    {
      "cell_type": "markdown",
      "id": "Qeh5fS6rraM3",
      "metadata": {
        "id": "Qeh5fS6rraM3"
      },
      "source": [
        "-----"
      ]
    },
    {
      "cell_type": "markdown",
      "id": "W5Ekgeijj4lL",
      "metadata": {
        "id": "W5Ekgeijj4lL"
      },
      "source": [
        "# EXAMPLES\n",
        "\n",
        "## 1. Compute:\n",
        "   - $\\int 1 dx$\n",
        "   - $\\int (x^2 +2) dx$\n",
        "   - $\\int 2\\sin(x) dx$\n",
        "   - $\\int \\frac{3}{x} dx$\n",
        "   - $\\int \\frac{1}{x^2} dx$\n",
        "   - $\\int \\left( \\frac{1}{3}x^4 - 5 \\right) \\, dx$\n",
        "   - $\\int (\\sin^2 x + \\cos^2 x) \\, dx$\n",
        "   - $\\int (5 \\sin x + 3e^x) \\, dx$\n",
        "   - $\\int \\sqrt[3]{x} \\, dx$\n",
        "   - $\\int \\sqrt{10x} \\, dx$\n",
        "   - $\\int \\cos\\left(\\frac{5}{2}x + 3\\right) \\, dx$\n",
        "   - $\\int \\frac{\\cos(\\ln(x))}{x} \\, dx$\n",
        "   - $\\int x \\ln(x) \\, dx$\n",
        "   - $\\int x e^x \\, dx$\n",
        "\n",
        "## 2. Calculate integrals over the interval $[0, \\pi]$ and visualize them in Geogebra:\n",
        "   - $f(x)=2x+1$\n",
        "   - $g(x)=x^2$\n",
        "\n",
        "## 3. Calculate the area of the region bounded by the lines:\n",
        "$x = 1$, $x = 2$, $y = 0$, and $y = x^2 + 1$. Show it in Geogebra.\n",
        "\n",
        "## 4. Calculate the area under the sine curve over the interval $[0, \\pi]$, using:\n",
        "\n",
        "$$P = \\int_a^b f(x) \\, dx = \\int_0^\\pi \\sin(x) \\, dx$$\n",
        "\n",
        "## 5. Calculate the length of the sine curve over the same interval using:\n",
        "\n",
        "$$L = \\int_a^b \\sqrt{1 + (f'(x))^2} \\, dx= \\int_0^\\pi \\sqrt{1 + \\cos^2(x)} \\, dx\n",
        "$$\n",
        "\n",
        "## 6. Find the distance of the moving particle between time $t=0$ and $t=2$ for the following position function: $x(t) = 3t^2 - 6t + 1$.\n"
      ]
    },
    {
      "cell_type": "markdown",
      "id": "ptSZjQd8rXxk",
      "metadata": {
        "id": "ptSZjQd8rXxk"
      },
      "source": [
        "-----"
      ]
    },
    {
      "cell_type": "markdown",
      "id": "4W8TWGAvhcYE",
      "metadata": {
        "id": "4W8TWGAvhcYE"
      },
      "source": [
        "# Solutions\n",
        "## 1/1\n",
        "$\\int 1 \\, dx = x + C$\n",
        "\n",
        "#### **Explanation:**\n",
        "The integral of a constant $1$ is the variable $x$ plus a constant of integration $C$.\n"
      ]
    },
    {
      "cell_type": "markdown",
      "id": "Xmhxe7zviN0m",
      "metadata": {
        "id": "Xmhxe7zviN0m"
      },
      "source": [
        "## 1/2\n",
        "\n",
        "$\\int (x^2 + 2) \\, dx = \\int x^2 \\, dx + \\int 2 \\, dx$  \n",
        "- First, split the integral into two parts: $\\int x^2 \\, dx$ and $\\int 2 \\, dx$.\n",
        "\n",
        "$\\int x^2 \\, dx = \\frac{x^3}{3}$  \n",
        "- Apply the power rule for integration: $\\int x^n \\, dx = \\frac{x^{n+1}}{n+1}$, which gives us $\\frac{x^3}{3}$.\n",
        "\n",
        "$\\int 2 \\, dx = 2x$  \n",
        "- For the constant $2$, apply the rule: $\\int k \\, dx = kx$, which gives us $2x$.\n",
        "\n",
        "Thus, the result is:  \n",
        "$\\int (x^2 + 2) \\, dx = \\frac{x^3}{3} + 2x + C$  \n",
        "- Combine the results and add the constant of integration $C$.\n"
      ]
    },
    {
      "cell_type": "markdown",
      "id": "U34rZ3Z7jMOI",
      "metadata": {
        "id": "U34rZ3Z7jMOI"
      },
      "source": [
        "## 1/3\n",
        "\n",
        "$\\int 2\\sin(x) \\, dx = 2 \\int \\sin(x) \\, dx$  \n",
        "- First, factor out the constant 2 from the integral.\n",
        "\n",
        "$\\int \\sin(x) \\, dx = -\\cos(x)$  \n",
        "- The integral of \\( \\sin(x) \\) is \\( -\\cos(x) \\) (known standard result).\n",
        "\n",
        "So, the result is:  \n",
        "$\\int 2\\sin(x) \\, dx = -2\\cos(x) + C$  \n",
        "- Multiply by the constant 2 and add the constant of integration \\( C \\).\n"
      ]
    },
    {
      "cell_type": "markdown",
      "id": "_GGZz0u6jW1D",
      "metadata": {
        "id": "_GGZz0u6jW1D"
      },
      "source": []
    },
    {
      "cell_type": "markdown",
      "id": "H7Z7qnRajqyz",
      "metadata": {
        "id": "H7Z7qnRajqyz"
      },
      "source": [
        "## 1/4\n",
        "\n",
        "$\\int \\frac{3}{x} \\, dx = 3 \\int \\frac{1}{x} \\, dx$  \n",
        "- First, factor out the constant 3 from the integral.\n",
        "\n",
        "$\\int \\frac{1}{x} \\, dx = \\ln |x|$  \n",
        "- The integral of $ \\frac{1}{x} $ is $ \\ln |x| $ (standard result).\n",
        "\n",
        "So, the result is:  \n",
        "$\\int \\frac{3}{x} \\, dx = 3 \\ln |x| + C$  \n",
        "- Multiply the result by 3 and add the constant of integration \\( C \\).\n"
      ]
    },
    {
      "cell_type": "markdown",
      "id": "OEmf0GUcjwjP",
      "metadata": {
        "id": "OEmf0GUcjwjP"
      },
      "source": [
        "## 1/5\n",
        "\n",
        "$\\int \\frac{1}{x^2} \\, dx = \\int x^{-2} \\, dx$  \n",
        "- Rewrite the integrand as $ x^{-2} $ to apply the power rule.\n",
        "\n",
        "$\\int x^{-2} \\, dx = \\frac{x^{-1}}{-1} = -\\frac{1}{x}$  \n",
        "- Apply the power rule: $ \\int x^n \\, dx = \\frac{x^{n+1}}{n+1} $, for \\( n = -2 \\), the result is $ -\\frac{1}{x} $.\n",
        "\n",
        "So, the result is:  \n",
        "$\\int \\frac{1}{x^2} \\, dx = -\\frac{1}{x} + C$  \n",
        "- Add the constant of integration \\( C \\).\n"
      ]
    },
    {
      "cell_type": "markdown",
      "id": "WEdcxqLLj3ls",
      "metadata": {
        "id": "WEdcxqLLj3ls"
      },
      "source": [
        "## 1/6\n",
        "\n",
        "$\\int \\left( \\frac{1}{3}x^4 - 5 \\right) \\, dx = \\int \\frac{1}{3}x^4 \\, dx - \\int 5 \\, dx$  \n",
        "- Split the integral into two parts: $ \\int \\frac{1}{3}x^4 \\, dx $ and $ \\int 5 \\, dx $.\n",
        "\n",
        "$\\int \\frac{1}{3}x^4 \\, dx = \\frac{1}{3} \\cdot \\frac{x^5}{5} = \\frac{x^5}{15}$  \n",
        "- Apply the power rule: $ \\int x^n \\, dx = \\frac{x^{n+1}}{n+1} $, for \\( n = 4 \\), the result is $ \\frac{x^5}{15} $.\n",
        "\n",
        "$\\int 5 \\, dx = 5x$  \n",
        "- The integral of a constant \\( 5 \\) is \\( 5x \\).\n",
        "\n",
        "So, the result is:  \n",
        "$\\int \\left( \\frac{1}{3}x^4 - 5 \\right) \\, dx = \\frac{x^5}{15} - 5x + C$  \n",
        "- Combine the results and add the constant of integration \\( C \\).\n"
      ]
    },
    {
      "cell_type": "markdown",
      "id": "t5-ecP5Xkgje",
      "metadata": {
        "id": "t5-ecP5Xkgje"
      },
      "source": [
        "##1/7\n",
        "\n",
        "$\\int (\\sin^2 x + \\cos^2 x) \\, dx = \\int \\sin^2 x \\, dx + \\int \\cos^2 x \\, dx$  \n",
        "- Split the integral into two parts: $ \\int \\sin^2 x \\, dx $ and $ \\int \\cos^2 x \\, dx $.\n",
        "\n",
        "Using the Pythagorean identity $ \\sin^2 x + \\cos^2 x = 1 $:  \n",
        "$\\int (\\sin^2 x + \\cos^2 x) \\, dx = \\int 1 \\, dx$\n",
        "\n",
        "$\\int 1 \\, dx = x$  \n",
        "- The integral of a constant \\( 1 \\) is simply \\( x \\).\n",
        "\n",
        "So, the result is:  \n",
        "$\\int (\\sin^2 x + \\cos^2 x) \\, dx = x + C$  \n",
        "- Apply the identity and add the constant of integration \\( C \\).\n"
      ]
    },
    {
      "cell_type": "markdown",
      "id": "4XHpT9Lykoec",
      "metadata": {
        "id": "4XHpT9Lykoec"
      },
      "source": [
        "##1/8\n",
        "$\\int (5 \\sin x + 3e^x) \\, dx = 5 \\int \\sin x \\, dx + 3 \\int e^x \\, dx$  \n",
        "- Split the integral into two parts: $ 5 \\int \\sin x \\, dx $ and $ 3 \\int e^x \\, dx $.\n",
        "\n",
        "$\\int \\sin x \\, dx = -\\cos x$  \n",
        "- The integral of $ \\sin x $ is $ -\\cos x $.\n",
        "\n",
        "$\\int e^x \\, dx = e^x$  \n",
        "- The integral of $ e^x $ is $ e^x $ (standard result).\n",
        "\n",
        "So, the result is:  \n",
        "$\\int (5 \\sin x + 3e^x) \\, dx = -5 \\cos x + 3 e^x + C$  \n",
        "- Combine the results and add the constant of integration \\( C \\).\n"
      ]
    },
    {
      "cell_type": "markdown",
      "id": "DzUUgsBbkuk7",
      "metadata": {
        "id": "DzUUgsBbkuk7"
      },
      "source": [
        "## 1/9\n",
        "\n",
        "$\\int \\sqrt[3]{x} \\, dx = \\int x^{\\frac{1}{3}} \\, dx$  \n",
        "- Rewrite the integrand as $ x^{\\frac{1}{3}} $.\n",
        "\n",
        "$\\int x^{\\frac{1}{3}} \\, dx = \\frac{x^{\\frac{1}{3}+1}}{\\frac{1}{3}+1} = \\frac{x^{\\frac{4}{3}}}{\\frac{4}{3}} = \\frac{3x^{\\frac{4}{3}}}{4}$  \n",
        "- Apply the power rule: $ \\int x^n \\, dx = \\frac{x^{n+1}}{n+1} $, for $ n = \\frac{1}{3} $, the result is $ \\frac{3x^{\\frac{4}{3}}}{4} $.\n",
        "\n",
        "So, the result is:  \n",
        "$\\int \\sqrt[3]{x} \\, dx = \\frac{3x^{\\frac{4}{3}}}{4} + C$  \n",
        "- Add the constant of integration \\( C \\).\n"
      ]
    },
    {
      "cell_type": "markdown",
      "id": "_ZOoZDN6k73H",
      "metadata": {
        "id": "_ZOoZDN6k73H"
      },
      "source": [
        "## 1/10\n",
        "\n",
        "$\\int \\sqrt{10x} \\, dx = \\int (10x)^{\\frac{1}{2}} \\, dx$  \n",
        "- Rewrite the integrand as $ (10x)^{\\frac{1}{2}} $.\n",
        "\n",
        "$\\int (10x)^{\\frac{1}{2}} \\, dx = \\int 10^{\\frac{1}{2}} x^{\\frac{1}{2}} \\, dx$  \n",
        "- Factor out the constant $ 10^{\\frac{1}{2}} $ from the integral.\n",
        "\n",
        "$\\int x^{\\frac{1}{2}} \\, dx = \\frac{x^{\\frac{1}{2}+1}}{\\frac{1}{2}+1} = \\frac{x^{\\frac{3}{2}}}{\\frac{3}{2}} = \\frac{2x^{\\frac{3}{2}}}{3}$  \n",
        "- Apply the power rule: $ \\int x^n \\, dx = \\frac{x^{n+1}}{n+1} $, for $ n = \\frac{1}{2} $, the result is $ \\frac{2x^{\\frac{3}{2}}}{3} $.\n",
        "\n",
        "So, the result is:  \n",
        "$\\int \\sqrt{10x} \\, dx = 10^{\\frac{1}{2}} \\cdot \\frac{2x^{\\frac{3}{2}}}{3} + C = \\frac{\\sqrt{10} \\cdot 2x^{\\frac{3}{2}}}{3} + C$  \n",
        "- Multiply the result by $ \\sqrt{10} $ and add the constant of integration \\( C \\).\n"
      ]
    },
    {
      "cell_type": "markdown",
      "id": "reSpVmlAlkpJ",
      "metadata": {
        "id": "reSpVmlAlkpJ"
      },
      "source": [
        "## 1/11\n",
        "\n",
        "$\\int \\cos\\left(\\frac{5}{2}x + 3\\right) \\, dx$  \n",
        "- The integral involves a composite function, so we will use substitution.\n",
        "\n",
        "Let $ u = \\frac{5}{2}x + 3 $, hence $ du = \\frac{5}{2} dx $, or $ dx = \\frac{2}{5} du $.  \n",
        "- Perform the substitution: change the variable \\( x \\) to \\( u \\).\n",
        "\n",
        "The integral becomes:  \n",
        "$\\int \\cos(u) \\cdot \\frac{2}{5} \\, du$  \n",
        "- Substitute \\( u \\) and \\( dx \\).\n",
        "\n",
        "$\\frac{2}{5} \\int \\cos(u) \\, du$  \n",
        "- Factor out the constant $ \\frac{2}{5} $.\n",
        "\n",
        "$\\int \\cos(u) \\, du = \\sin(u)$  \n",
        "- The integral of $ \\cos(u) $ is $ \\sin(u) $.\n",
        "\n",
        "So, the result is:  \n",
        "$\\frac{2}{5} \\sin(u) + C$  \n",
        "- Apply the result of the integral and add the constant of integration \\( C \\).\n",
        "\n",
        "Substitute back $ u = \\frac{5}{2}x + 3 $:  \n",
        "$\\frac{2}{5} \\sin\\left(\\frac{5}{2}x + 3\\right) + C$  \n",
        "- Substitute back \\( u \\) to get the final result.\n",
        "\n",
        "Thus, the final answer is:  \n",
        "$\\int \\cos\\left(\\frac{5}{2}x + 3\\right) \\, dx = \\frac{2}{5} \\sin\\left(\\frac{5}{2}x + 3\\right) + C$  \n",
        "- Combine all parts to get the final result.\n"
      ]
    },
    {
      "cell_type": "markdown",
      "id": "63yGNCtlluGm",
      "metadata": {
        "id": "63yGNCtlluGm"
      },
      "source": [
        "## 1/12\n",
        "\n",
        "$\\int \\frac{\\cos(\\ln(x))}{x} \\, dx$  \n",
        "- This integral involves a composite function and requires substitution.\n",
        "\n",
        "Let $ u = \\ln(x) $, so $ du = \\frac{1}{x} \\, dx $.  \n",
        "- Perform the substitution: change the variable $ x $ to $ u $.\n",
        "\n",
        "The integral becomes:  \n",
        "$\\int \\cos(u) \\, du$  \n",
        "- After substitution, the integral simplifies to $ \\int \\cos(u) \\, du $.\n",
        "\n",
        "$\\int \\cos(u) \\, du = \\sin(u)$  \n",
        "- The integral of $ \\cos(u) $ is $ \\sin(u) .\n",
        "\n",
        "Substitute back \\( u = \\ln(x) \\):  \n",
        "$\\sin(\\ln(x))$  \n",
        "- Substitute \\( u \\) back to obtain the result in terms of \\( x \\).\n",
        "\n",
        "Thus, the final answer is:  \n",
        "$\\int \\frac{\\cos(\\ln(x))}{x} \\, dx = \\sin(\\ln(x)) + C$  \n",
        "- Add the constant of integration \\( C \\).\n"
      ]
    },
    {
      "cell_type": "markdown",
      "id": "WIfrVyUhl3mI",
      "metadata": {
        "id": "WIfrVyUhl3mI"
      },
      "source": [
        "## 1/13\n",
        "\n",
        "$\\int x \\ln(x) \\, dx$  \n",
        "- This integral requires the use of integration by parts.\n",
        "\n",
        "Recall the formula for integration by parts:  \n",
        "$\\int u \\, dv = uv - \\int v \\, du$\n",
        "\n",
        "Let:  \n",
        "- $ u = \\ln(x) $, hence $ du = \\frac{1}{x} \\, dx $.  \n",
        "- $ dv = x \\, dx $, hence $ v = \\frac{x^2}{2} $.  \n",
        "\n",
        "Now, applying the integration by parts formula:  \n",
        "$\\int x \\ln(x) \\, dx = \\frac{x^2}{2} \\ln(x) - \\int \\frac{x^2}{2} \\cdot \\frac{1}{x} \\, dx$  \n",
        "- The first term is $ \\frac{x^2}{2} \\ln(x) $, and for the second term, simplify $ \\frac{x^2}{x} = x $.\n",
        "\n",
        "Now, solve the remaining integral:  \n",
        "$\\int \\frac{x^2}{2} \\cdot \\frac{1}{x} \\, dx = \\int \\frac{x}{2} \\, dx = \\frac{x^2}{4}$  \n",
        "- The integral of $ x $ is $ \\frac{x^2}{2} $, and multiplying by $ \\frac{1}{2} $, we get $ \\frac{x^2}{4} $.\n",
        "\n",
        "Thus, the result is:  \n",
        "$\\int x \\ln(x) \\, dx = \\frac{x^2}{2} \\ln(x) - \\frac{x^2}{4} + C$  \n",
        "- Combine all terms and add the constant of integration \\( C \\).\n"
      ]
    },
    {
      "cell_type": "markdown",
      "id": "9JI4jXlml_1f",
      "metadata": {
        "id": "9JI4jXlml_1f"
      },
      "source": [
        "## 1/14\n",
        "\n",
        "$\\int x e^x \\, dx$  \n",
        "- This integral requires the use of integration by parts.\n",
        "\n",
        "Recall the formula for integration by parts:  \n",
        "$\\int u \\, dv = uv - \\int v \\, du$\n",
        "\n",
        "Let:  \n",
        "- \\( u = x \\), hence $ du = dx $.  \n",
        "- $ dv = e^x \\, dx $, hence $ v = e^x $.  \n",
        "\n",
        "Now, applying the integration by parts formula:  \n",
        "$\\int x e^x \\, dx = x e^x - \\int e^x \\, dx$  \n",
        "- The first term is \\( x e^x \\), and for the second term, the integral of $ e^x $ is $ e^x $.\n",
        "\n",
        "Now, solve the remaining integral:  \n",
        "$\\int e^x \\, dx = e^x$\n",
        "\n",
        "Thus, the result is:  \n",
        "$\\int x e^x \\, dx = x e^x - e^x + C$  \n",
        "- Combine all terms and add the constant of integration \\( C \\).\n"
      ]
    },
    {
      "cell_type": "markdown",
      "id": "mDqrQK8NrTMl",
      "metadata": {
        "id": "mDqrQK8NrTMl"
      },
      "source": [
        "----"
      ]
    },
    {
      "cell_type": "markdown",
      "id": "jAbXT3tTmXi7",
      "metadata": {
        "id": "jAbXT3tTmXi7"
      },
      "source": [
        "## 2/1\n",
        "\n",
        "$\\int_0^\\pi (2x + 1) \\, dx$  \n",
        "- Split the integral into two parts: $ \\int_0^\\pi 2x \\, dx $ and $ \\int_0^\\pi 1 \\, dx $.\n",
        "\n",
        "$\\int_0^\\pi 2x \\, dx = 2 \\cdot \\frac{x^2}{2} \\Big|_0^\\pi = x^2 \\Big|_0^\\pi = \\pi^2 - 0^2 = \\pi^2$  \n",
        "- The integral of $ 2x $ is $ x^2 $, and evaluated from 0 to $ \\pi $, gives $ \\pi^2 $.\n",
        "\n",
        "$\\int_0^\\pi 1 \\, dx = x \\Big|_0^\\pi = \\pi - 0 = \\pi$  \n",
        "- The integral of a constant \\( 1 \\) is simply \\( x \\), and evaluated from 0 to $ \\pi $, gives $ \\pi $.\n",
        "\n",
        "So, the result is:  \n",
        "$\\int_0^\\pi (2x + 1) \\, dx = \\pi^2 + \\pi$\n",
        "\n",
        "GeoGebra : https://www.geogebra.org/calculator/skfyfhrx\n"
      ]
    },
    {
      "cell_type": "markdown",
      "id": "a45HMWzVma8D",
      "metadata": {
        "id": "a45HMWzVma8D"
      },
      "source": [
        "## 2/2\n",
        "\n",
        "$\\int_0^\\pi x^2 \\, dx$  \n",
        "- Apply the power rule for integration.\n",
        "\n",
        "$\\int_0^\\pi x^2 \\, dx = \\frac{x^3}{3} \\Big|_0^\\pi = \\frac{\\pi^3}{3} - 0^3 = \\frac{\\pi^3}{3}$  \n",
        "- The integral of \\( x^2 \\) is \\( \\frac{x^3}{3} \\), and evaluated from 0 to \\( \\pi \\), gives \\( \\frac{\\pi^3}{3} \\).\n",
        "\n",
        "GeoGebra: https://www.geogebra.org/calculator/tste8syu\n"
      ]
    },
    {
      "cell_type": "markdown",
      "id": "lZdXLyewrnQW",
      "metadata": {
        "id": "lZdXLyewrnQW"
      },
      "source": [
        "----"
      ]
    },
    {
      "cell_type": "markdown",
      "id": "klbtliXHo6vY",
      "metadata": {
        "id": "klbtliXHo6vY"
      },
      "source": [
        "## 3/1\n",
        "\n",
        "We are given the lines:\n",
        "- \\( x = 1 \\)\n",
        "- \\( x = 2 \\)\n",
        "- \\( y = 0 \\) (the x-axis)\n",
        "- $ y = x^2 + 1 $\n",
        "\n",
        "The region bounded by these lines can be described as the area between the curve $ y = x^2 + 1 $, the lines \\( x = 1 \\), \\( x = 2 \\), and the x-axis.\n",
        "\n",
        "To calculate the area, we use the integral:\n",
        "$$\n",
        "\\text{Area} = \\int_1^2 (x^2 + 1) \\, dx\n",
        "$$\n",
        "\n",
        "### Step 2: Solve the Integral\n",
        "\n",
        "First, break it down:\n",
        "$$\n",
        "\\text{Area} = \\int_1^2 x^2 \\, dx + \\int_1^2 1 \\, dx\n",
        "$$\n",
        "\n",
        "For $ \\int_1^2 x^2 \\, dx $, apply the power rule:\n",
        "$$\n",
        "\\int x^2 \\, dx = \\frac{x^3}{3}\n",
        "$$\n",
        "Evaluating from 1 to 2:\n",
        "$$\n",
        "\\left[ \\frac{x^3}{3} \\right]_1^2 = \\frac{2^3}{3} - \\frac{1^3}{3} = \\frac{8}{3} - \\frac{1}{3} = \\frac{7}{3}\n",
        "$$\n",
        "\n",
        "For $ \\int_1^2 1 \\, dx $, simply evaluate:\n",
        "$$\n",
        "\\int_1^2 1 \\, dx = x \\Big|_1^2 = 2 - 1 = 1\n",
        "$$\n",
        "\n",
        "So, the total area is:\n",
        "$$\n",
        "\\text{Area} = \\frac{7}{3} + 1 = \\frac{7}{3} + \\frac{3}{3} = \\frac{10}{3}\n",
        "$$\n",
        "\n",
        "Thus, the area of the region is $$ \\frac{10}{3} $$ square units.\n"
      ]
    },
    {
      "cell_type": "markdown",
      "id": "jdR9NIhMrE3D",
      "metadata": {
        "id": "jdR9NIhMrE3D"
      },
      "source": [
        "GeoGebra: https://www.geogebra.org/calculator/wnstjqfx"
      ]
    },
    {
      "cell_type": "markdown",
      "id": "An8aNBPVsNj3",
      "metadata": {
        "id": "An8aNBPVsNj3"
      },
      "source": [
        "## 4/1\n",
        "\n",
        "We are given the integral:\n",
        "$$\n",
        "P = \\int_0^\\pi \\sin(x) \\, dx\n",
        "$$\n",
        "\n",
        "First, recall that the integral of $ \\sin(x) $ is:\n",
        "$$\n",
        "\\int \\sin(x) \\, dx = -\\cos(x)\n",
        "$$\n",
        "\n",
        "Now, we can evaluate the integral from \\( x = 0 \\) to $ (x = \\pi) $:\n",
        "$$\n",
        "P = \\left[-\\cos(x)\\right]_0^\\pi = -\\cos(\\pi) + \\cos(0)\n",
        "$$\n",
        "Since $ \\cos(\\pi) = -1 $ and $ \\cos(0) = 1 $, we get:\n",
        "$$\n",
        "P = -(-1) + 1 = 1 + 1 = 2\n",
        "$$\n",
        "\n",
        "Thus, the area under the curve is \\( 2 \\) square units.\n"
      ]
    },
    {
      "cell_type": "markdown",
      "id": "3l3rT7uRurEX",
      "metadata": {
        "id": "3l3rT7uRurEX"
      },
      "source": [
        "## 5/1\n",
        "\n",
        "We are given the formula for the length of a curve:\n",
        "$$\n",
        "L = \\int_a^b \\sqrt{1 + (f'(x))^2} \\, dx\n",
        "$$\n",
        "\n",
        "For the sine curve $ f(x) = \\sin(x) $, the derivative is:\n",
        "$$\n",
        "f'(x) = \\cos(x)\n",
        "$$\n",
        "\n",
        "Substituting $ f'(x) $ into the formula, we get:\n",
        "$$\n",
        "L = \\int_0^\\pi \\sqrt{1 + \\cos^2(x)} \\, dx\n",
        "$$\n",
        "\n",
        "This integral cannot be solved exactly in terms of elementary functions, so we approximate it numerically or use computational tools.\n"
      ]
    },
    {
      "cell_type": "markdown",
      "id": "2Ws0vHIuuysr",
      "metadata": {
        "id": "2Ws0vHIuuysr"
      },
      "source": [
        "## 6/1\n",
        "\n",
        "The given position function is:\n",
        "$$\n",
        "x(t) = 3t^2 - 6t + 1\n",
        "$$\n",
        "\n",
        "The velocity is the derivative of the position function:\n",
        "$$\n",
        "v(t) = \\frac{dx(t)}{dt} = 6t - 6\n",
        "$$\n",
        "\n",
        "The total distance is calculated as:\n",
        "$$\n",
        "D = \\int_{t=0}^{t=2} |v(t)| \\, dt\n",
        "$$\n",
        "\n",
        "We find when $ v(t) = 0 $ to determine where the velocity changes sign:\n",
        "$$\n",
        "6t - 6 = 0 \\quad \\Rightarrow \\quad t = 1\n",
        "$$\n",
        "\n",
        "Now split the integral into intervals where \\( v(t) \\) does not change sign:\n",
        "$$\n",
        "D = \\int_0^1 |6t - 6| \\, dt + \\int_1^2 |6t - 6| \\, dt\n",
        "$$\n",
        "\n",
        "Since $ v(t) $ is negative on \\( [0, 1] \\) and positive on \\( [1, 2] \\):\n",
        "$$\n",
        "D = \\int_0^1 -(6t - 6) \\, dt + \\int_1^2 (6t - 6) \\, dt\n",
        "$$\n",
        "\n",
        "Evaluate each integral:\n",
        "$$\n",
        "\\int_0^1 -(6t - 6) \\, dt = \\int_0^1 (-6t + 6) \\, dt = \\left[-3t^2 + 6t\\right]_0^1 = (-3(1)^2 + 6(1)) - (-3(0)^2 + 6(0)) = 3\n",
        "$$\n",
        "\n",
        "$$\n",
        "\\int_1^2 (6t - 6) \\, dt = \\left[3t^2 - 6t\\right]_1^2 = (3(2)^2 - 6(2)) - (3(1)^2 - 6(1)) = 6\n",
        "$$\n",
        "\n",
        "Adding these:\n",
        "$$\n",
        "D = 3 + 6 = 9\n",
        "$$\n",
        "\n",
        "The total distance traveled by the particle is:\n",
        "$$\n",
        "D = 9 \\, \\text{units.}\n",
        "$$\n"
      ]
    }
  ],
  "metadata": {
    "colab": {
      "include_colab_link": true,
      "provenance": []
    },
    "kernelspec": {
      "display_name": "Python 3 (ipykernel)",
      "language": "python",
      "name": "python3"
    },
    "language_info": {
      "codemirror_mode": {
        "name": "ipython",
        "version": 3
      },
      "file_extension": ".py",
      "mimetype": "text/x-python",
      "name": "python",
      "nbconvert_exporter": "python",
      "pygments_lexer": "ipython3",
      "version": "3.12.7"
    }
  },
  "nbformat": 4,
  "nbformat_minor": 5
}
